{
  "nbformat": 4,
  "nbformat_minor": 0,
  "metadata": {
    "colab": {
      "name": "DL - Jun 2021 - Clase 2 - Intro_a_PyTorch.ipynb",
      "provenance": [],
      "include_colab_link": true
    },
    "kernelspec": {
      "name": "python3",
      "display_name": "Python 3"
    },
    "language_info": {
      "name": "python"
    }
  },
  "cells": [
    {
      "cell_type": "markdown",
      "metadata": {
        "id": "view-in-github",
        "colab_type": "text"
      },
      "source": [
        "<a href=\"https://colab.research.google.com/github/franz6ko/deep-learning/blob/main/Clase-2/DL_Jun_2021_Clase_2_Intro_a_PyTorch.ipynb\" target=\"_parent\"><img src=\"https://colab.research.google.com/assets/colab-badge.svg\" alt=\"Open In Colab\"/></a>"
      ]
    },
    {
      "cell_type": "code",
      "metadata": {
        "id": "8l2AxFAJlZnJ"
      },
      "source": [
        "import numpy as np\n",
        "from matplotlib import pyplot as plt\n",
        "import torch\n",
        "from torch.utils.data import Dataset\n",
        "from torch.utils.data import DataLoader"
      ],
      "execution_count": 1,
      "outputs": []
    },
    {
      "cell_type": "code",
      "metadata": {
        "colab": {
          "base_uri": "https://localhost:8080/",
          "height": 283
        },
        "id": "pJKnE3pflkvd",
        "outputId": "8719ddf3-7714-4d31-9836-36ad9ffa3932"
      },
      "source": [
        "X = np.random.uniform(0, 8, 10000)\n",
        "U = np.random.uniform(0, 1, 10000)\n",
        "N1 = np.random.normal(3, 0.1, 10000)\n",
        "N2 = np.random.normal(-3, 0.1, 10000)\n",
        "Z = (X-4) ** 2\n",
        "Z[U >= 0.5] = Z[U >= 0.5] + N1[U >= 0.5]\n",
        "Z[U < 0.5] = Z[U < 0.5] + N2[U <= 0.5]\n",
        "fig, ax = plt.subplots(1,1)\n",
        "ax.scatter(X,Z)"
      ],
      "execution_count": 2,
      "outputs": [
        {
          "output_type": "execute_result",
          "data": {
            "text/plain": [
              "<matplotlib.collections.PathCollection at 0x7fa7f9967d10>"
            ]
          },
          "metadata": {
            "tags": []
          },
          "execution_count": 2
        },
        {
          "output_type": "display_data",
          "data": {
            "image/png": "[encoded data removed]",
            "text/plain": [
              "<Figure size 432x288 with 1 Axes>"
            ]
          },
          "metadata": {
            "tags": [],
            "needs_background": "light"
          }
        }
      ]
    },
    {
      "cell_type": "code",
      "metadata": {
        "colab": {
          "base_uri": "https://localhost:8080/"
        },
        "id": "Gmnka1lgl33f",
        "outputId": "5f452451-8bd6-42a9-d29f-8401515f9a54"
      },
      "source": [
        "L = np.zeros(10000)\n",
        "mask = Z >= (X-4) ** 2 \n",
        "L[mask] = 1\n",
        "L[~mask] = 0\n",
        "\n",
        "idx = np.random.permutation(np.arange(0,10000))\n",
        "X_train = X[idx[0:int(0.8*10000)]]\n",
        "X_test = X[idx[int(0.8*10000):]]\n",
        "\n",
        "Z_train = Z[idx[0:int(0.8*10000)]]\n",
        "Z_test = Z[idx[int(0.8*10000):]]\n",
        "\n",
        "L_train = L[idx[0:int(0.8*10000)]]\n",
        "L_test = L[idx[int(0.8*10000):]]\n",
        "\n",
        "X_final_train = np.zeros((X_train.shape[0],2))\n",
        "X_final_train[:,0] = X_train\n",
        "X_final_train[:,1] = Z_train\n",
        "\n",
        "X_final_test = np.zeros((X_test.shape[0],2))\n",
        "X_final_test[:,0] = X_test\n",
        "X_final_test[:,1] = Z_test\n",
        "\n",
        "print(X_final_train.shape)\n",
        "print(X_final_test.shape)"
      ],
      "execution_count": 3,
      "outputs": [
        {
          "output_type": "stream",
          "text": [
            "(8000, 2)\n",
            "(2000, 2)\n"
          ],
          "name": "stdout"
        }
      ]
    },
    {
      "cell_type": "code",
      "metadata": {
        "id": "RtjQOR7QnDae"
      },
      "source": [
        "import torch\n",
        "from torch.utils.data import Dataset\n",
        "from torch.utils.data import DataLoader"
      ],
      "execution_count": 4,
      "outputs": []
    },
    {
      "cell_type": "code",
      "metadata": {
        "id": "9pUSs4DqnHKc"
      },
      "source": [
        "class CustomDataset(Dataset):\n",
        "    def __init__(self, X, Y):\n",
        "        super().__init__()\n",
        "        self.X = X\n",
        "        self.Y = Y\n",
        "\n",
        "    def __len__(self):\n",
        "        return self.X.shape[0]\n",
        "\n",
        "    def __getitem__(self, idx):\n",
        "        return self.X[idx,:], self.Y[idx]"
      ],
      "execution_count": 5,
      "outputs": []
    },
    {
      "cell_type": "code",
      "metadata": {
        "id": "olzLi75dpADl"
      },
      "source": [
        "training_set = CustomDataset(X_final_train, L_train)"
      ],
      "execution_count": 6,
      "outputs": []
    },
    {
      "cell_type": "code",
      "metadata": {
        "colab": {
          "base_uri": "https://localhost:8080/"
        },
        "id": "Agc0kLE3p-TY",
        "outputId": "96c5e7e2-ab2b-438d-c67f-27b2b38642e2"
      },
      "source": [
        "len(training_set)"
      ],
      "execution_count": 7,
      "outputs": [
        {
          "output_type": "execute_result",
          "data": {
            "text/plain": [
              "8000"
            ]
          },
          "metadata": {
            "tags": []
          },
          "execution_count": 7
        }
      ]
    },
    {
      "cell_type": "code",
      "metadata": {
        "colab": {
          "base_uri": "https://localhost:8080/"
        },
        "id": "SeJ61cPBqAZo",
        "outputId": "b46506bc-fb90-49a7-dc8b-2ef15ba488af"
      },
      "source": [
        "training_set.__len__()"
      ],
      "execution_count": 8,
      "outputs": [
        {
          "output_type": "execute_result",
          "data": {
            "text/plain": [
              "8000"
            ]
          },
          "metadata": {
            "tags": []
          },
          "execution_count": 8
        }
      ]
    },
    {
      "cell_type": "code",
      "metadata": {
        "colab": {
          "base_uri": "https://localhost:8080/"
        },
        "id": "mHBktNzcqEuv",
        "outputId": "02886736-3369-4502-e5ff-a1480af5b0e4"
      },
      "source": [
        "training_set[0]"
      ],
      "execution_count": 9,
      "outputs": [
        {
          "output_type": "execute_result",
          "data": {
            "text/plain": [
              "(array([0.53004362, 9.04310444]), 0.0)"
            ]
          },
          "metadata": {
            "tags": []
          },
          "execution_count": 9
        }
      ]
    },
    {
      "cell_type": "code",
      "metadata": {
        "colab": {
          "base_uri": "https://localhost:8080/"
        },
        "id": "NQEnCCpXqKwY",
        "outputId": "64939cff-8302-46ef-ad9e-043ba131e4cc"
      },
      "source": [
        "X_final_train[0,:]"
      ],
      "execution_count": 10,
      "outputs": [
        {
          "output_type": "execute_result",
          "data": {
            "text/plain": [
              "array([0.53004362, 9.04310444])"
            ]
          },
          "metadata": {
            "tags": []
          },
          "execution_count": 10
        }
      ]
    },
    {
      "cell_type": "code",
      "metadata": {
        "colab": {
          "base_uri": "https://localhost:8080/"
        },
        "id": "S1sy64RJqRCZ",
        "outputId": "e0cd8e47-1850-4247-fcfd-508ec4eff40c"
      },
      "source": [
        "L_train[0]"
      ],
      "execution_count": 11,
      "outputs": [
        {
          "output_type": "execute_result",
          "data": {
            "text/plain": [
              "0.0"
            ]
          },
          "metadata": {
            "tags": []
          },
          "execution_count": 11
        }
      ]
    },
    {
      "cell_type": "code",
      "metadata": {
        "colab": {
          "base_uri": "https://localhost:8080/"
        },
        "id": "o0boJxjHqUEa",
        "outputId": "967b6d57-0760-4a51-c5f0-6383c771104d"
      },
      "source": [
        "training_set.__getitem__(0)"
      ],
      "execution_count": 12,
      "outputs": [
        {
          "output_type": "execute_result",
          "data": {
            "text/plain": [
              "(array([0.53004362, 9.04310444]), 0.0)"
            ]
          },
          "metadata": {
            "tags": []
          },
          "execution_count": 12
        }
      ]
    },
    {
      "cell_type": "code",
      "metadata": {
        "id": "ZvQguvrFrHGH"
      },
      "source": [
        "test_set = CustomDataset(X_final_test, L_test)"
      ],
      "execution_count": 13,
      "outputs": []
    },
    {
      "cell_type": "code",
      "metadata": {
        "id": "QDraN1FprQOw"
      },
      "source": [
        "training_dataloader = DataLoader(training_set, batch_size=512, shuffle=True)\n",
        "test_dataloader = DataLoader(test_set, batch_size=512, shuffle=True)"
      ],
      "execution_count": 14,
      "outputs": []
    },
    {
      "cell_type": "code",
      "metadata": {
        "colab": {
          "base_uri": "https://localhost:8080/"
        },
        "id": "FXHPcbz6rztO",
        "outputId": "e6fafd40-d1b0-4922-e85a-851b624e51ec"
      },
      "source": [
        "len(training_dataloader)"
      ],
      "execution_count": 15,
      "outputs": [
        {
          "output_type": "execute_result",
          "data": {
            "text/plain": [
              "16"
            ]
          },
          "metadata": {
            "tags": []
          },
          "execution_count": 15
        }
      ]
    },
    {
      "cell_type": "code",
      "metadata": {
        "colab": {
          "base_uri": "https://localhost:8080/"
        },
        "id": "pEvF1QtQr2GU",
        "outputId": "eb70e97e-6a2c-44f8-ac40-e3f69a3b4c0c"
      },
      "source": [
        "8000 / 512 # (dataset size / batch_size)"
      ],
      "execution_count": 16,
      "outputs": [
        {
          "output_type": "execute_result",
          "data": {
            "text/plain": [
              "15.625"
            ]
          },
          "metadata": {
            "tags": []
          },
          "execution_count": 16
        }
      ]
    },
    {
      "cell_type": "code",
      "metadata": {
        "id": "pNCBPJVOsB-u"
      },
      "source": [
        "batch_example = next(iter(training_dataloader))"
      ],
      "execution_count": 17,
      "outputs": []
    },
    {
      "cell_type": "code",
      "metadata": {
        "colab": {
          "base_uri": "https://localhost:8080/"
        },
        "id": "lgAS1sGKsYRY",
        "outputId": "9caff565-b091-4107-8c10-04f52d397103"
      },
      "source": [
        "batch_example[0].shape"
      ],
      "execution_count": 18,
      "outputs": [
        {
          "output_type": "execute_result",
          "data": {
            "text/plain": [
              "torch.Size([512, 2])"
            ]
          },
          "metadata": {
            "tags": []
          },
          "execution_count": 18
        }
      ]
    },
    {
      "cell_type": "code",
      "metadata": {
        "colab": {
          "base_uri": "https://localhost:8080/"
        },
        "id": "Jdn8eTXHsaEI",
        "outputId": "6a427f50-c81e-4dec-dfe1-8fabcae7f0da"
      },
      "source": [
        "batch_example[1].shape"
      ],
      "execution_count": 19,
      "outputs": [
        {
          "output_type": "execute_result",
          "data": {
            "text/plain": [
              "torch.Size([512])"
            ]
          },
          "metadata": {
            "tags": []
          },
          "execution_count": 19
        }
      ]
    },
    {
      "cell_type": "code",
      "metadata": {
        "id": "GmC47TdPscPQ"
      },
      "source": [
        "numpy_example = np.array([[1,2,3,4],[5,6,7,8]])"
      ],
      "execution_count": 20,
      "outputs": []
    },
    {
      "cell_type": "code",
      "metadata": {
        "colab": {
          "base_uri": "https://localhost:8080/"
        },
        "id": "6oSoxNMhuacf",
        "outputId": "2ea9f4c3-41b5-4e1d-920a-7a11521c8df1"
      },
      "source": [
        "numpy_example"
      ],
      "execution_count": 21,
      "outputs": [
        {
          "output_type": "execute_result",
          "data": {
            "text/plain": [
              "array([[1, 2, 3, 4],\n",
              "       [5, 6, 7, 8]])"
            ]
          },
          "metadata": {
            "tags": []
          },
          "execution_count": 21
        }
      ]
    },
    {
      "cell_type": "code",
      "metadata": {
        "id": "yWl0ItngubaO"
      },
      "source": [
        "torch_example = torch.Tensor([[1,2,3,4],[5,6,7,8]])"
      ],
      "execution_count": 22,
      "outputs": []
    },
    {
      "cell_type": "code",
      "metadata": {
        "colab": {
          "base_uri": "https://localhost:8080/"
        },
        "id": "_5HB7YRRugKA",
        "outputId": "0edaeadc-b50c-4476-8f76-242fbc9b8aeb"
      },
      "source": [
        "torch_example"
      ],
      "execution_count": 23,
      "outputs": [
        {
          "output_type": "execute_result",
          "data": {
            "text/plain": [
              "tensor([[1., 2., 3., 4.],\n",
              "        [5., 6., 7., 8.]])"
            ]
          },
          "metadata": {
            "tags": []
          },
          "execution_count": 23
        }
      ]
    },
    {
      "cell_type": "code",
      "metadata": {
        "colab": {
          "base_uri": "https://localhost:8080/"
        },
        "id": "V29Hq-3XuhLW",
        "outputId": "cb699a59-20e3-4c35-cba8-4e47c9541d43"
      },
      "source": [
        "torch_example.numpy()"
      ],
      "execution_count": 24,
      "outputs": [
        {
          "output_type": "execute_result",
          "data": {
            "text/plain": [
              "array([[1., 2., 3., 4.],\n",
              "       [5., 6., 7., 8.]], dtype=float32)"
            ]
          },
          "metadata": {
            "tags": []
          },
          "execution_count": 24
        }
      ]
    },
    {
      "cell_type": "code",
      "metadata": {
        "id": "Gpg8QKeUuj3P"
      },
      "source": [
        "class NNet(torch.nn.Module):\n",
        "    def __init__(self):\n",
        "        super().__init__()\n",
        "        self.linear_1 = torch.nn.Linear(in_features=2, out_features=10, bias=True)\n",
        "        self.sigmoid_1 = torch.nn.Sigmoid()\n",
        "        self.linear_2 = torch.nn.Linear(in_features=10, out_features=20, bias=True)\n",
        "        self.sigmoid_2 = torch.nn.Sigmoid()\n",
        "        self.linear_3 = torch.nn.Linear(in_features=20, out_features=1, bias=True)\n",
        "        self.sigmoid_3 = torch.nn.Sigmoid()\n",
        "    \n",
        "    def forward(self, x):\n",
        "        #print(f\"x.shape = {x.shape}\")       # 512 x 2\n",
        "        z1 = self.linear_1(x)\n",
        "        #print(f\"z1.shape = {z1.shape}\")     # 512 x 10\n",
        "        a1 = self.sigmoid_1(z1)\n",
        "        #print(f\"a1.shape = {a1.shape}\")     # 512 x 10\n",
        "        z2 = self.linear_2(a1)\n",
        "        #print(f\"z2.shape = {z2.shape}\")     # 512 x 20\n",
        "        a2 = self.sigmoid_2(z2)\n",
        "        #print(f\"a2.shape = {a2.shape}\")     # 512 x 20\n",
        "        z3 = self.linear_3(a2)\n",
        "        #print(f\"z3.shape = {z3.shape}\")     # 512 x 1 -> -inf, +inf -> logit \n",
        "        y = self.sigmoid_3(z3)\n",
        "        #print(f\"y.shape = {y.shape}\")       # 512 x 1 -> [0, 1]\n",
        "        return y"
      ],
      "execution_count": 25,
      "outputs": []
    },
    {
      "cell_type": "code",
      "metadata": {
        "id": "ecfJw7IHvtWh"
      },
      "source": [
        "nnet = NNet()"
      ],
      "execution_count": 68,
      "outputs": []
    },
    {
      "cell_type": "code",
      "metadata": {
        "colab": {
          "base_uri": "https://localhost:8080/"
        },
        "id": "2UVODHxfxDYs",
        "outputId": "b2d6252b-0c0f-4634-d57f-dbf88e517c31"
      },
      "source": [
        "print(nnet)"
      ],
      "execution_count": 69,
      "outputs": [
        {
          "output_type": "stream",
          "text": [
            "NNet(\n",
            "  (linear_1): Linear(in_features=2, out_features=10, bias=True)\n",
            "  (sigmoid_1): Sigmoid()\n",
            "  (linear_2): Linear(in_features=10, out_features=20, bias=True)\n",
            "  (sigmoid_2): Sigmoid()\n",
            "  (linear_3): Linear(in_features=20, out_features=1, bias=True)\n",
            "  (sigmoid_3): Sigmoid()\n",
            ")\n"
          ],
          "name": "stdout"
        }
      ]
    },
    {
      "cell_type": "code",
      "metadata": {
        "id": "zp91UG7SxJ45"
      },
      "source": [
        "criterion = torch.nn.BCELoss(reduction='sum') # criterion, is my lost function\n",
        "optimizer = torch.optim.SGD(nnet.parameters(), lr=0.001) # is my optimizer"
      ],
      "execution_count": 70,
      "outputs": []
    },
    {
      "cell_type": "code",
      "metadata": {
        "colab": {
          "base_uri": "https://localhost:8080/"
        },
        "id": "vVisny6yxOxZ",
        "outputId": "01394717-3011-4b5f-dbf8-af054327ce21"
      },
      "source": [
        "# Now I have:\n",
        "# dataset -> ok\n",
        "# model -> 3 linear layers with sigmod as activation\n",
        "# loss/criterion as Binary Cross Entropy\n",
        "# optimizar as SGD (supports mini-batch)\n",
        "torch.cuda.is_available()"
      ],
      "execution_count": 71,
      "outputs": [
        {
          "output_type": "execute_result",
          "data": {
            "text/plain": [
              "False"
            ]
          },
          "metadata": {
            "tags": []
          },
          "execution_count": 71
        }
      ]
    },
    {
      "cell_type": "code",
      "metadata": {
        "colab": {
          "base_uri": "https://localhost:8080/"
        },
        "id": "OslzkseZxv1X",
        "outputId": "db3a8292-e54d-463e-c037-cb27abf8d2e7"
      },
      "source": [
        "device = \"\"\n",
        "if torch.cuda.is_available():\n",
        "    device = \"cuda:0\"\n",
        "else:\n",
        "    device = \"cpu\"\n",
        "\n",
        "# device = torch.device(\"cuda:0\" if torch.cuda.is_available() else \"cpu\")\n",
        "\n",
        "nnet.to(device)\n",
        "\n",
        "for epoch in range(100):\n",
        "\n",
        "    running_loss = 0\n",
        "    for i, data in enumerate(training_dataloader):\n",
        "\n",
        "        # batch\n",
        "        x, y = data\n",
        "        x = x.to(device).float()\n",
        "        y = y.to(device).float().reshape(-1,1)\n",
        "\n",
        "        # set gradient to zero\n",
        "        optimizer.zero_grad()\n",
        "\n",
        "        # forward \n",
        "        y_hat = nnet(x)\n",
        "\n",
        "        # loss\n",
        "        loss = criterion(y_hat, y)\n",
        "\n",
        "        # backward\n",
        "        loss.backward()\n",
        "\n",
        "        # update of parameters\n",
        "        optimizer.step()\n",
        "\n",
        "        # compute metrics and statistics\n",
        "        running_loss += loss.item()\n",
        "    \n",
        "    if epoch%10 == 0:\n",
        "      print(f\"Epoch = {epoch} | loss = {running_loss / len(training_set)}\")"
      ],
      "execution_count": 72,
      "outputs": [
        {
          "output_type": "stream",
          "text": [
            "Epoch = 0 | loss = 0.6830924663543702\n",
            "Epoch = 10 | loss = 0.44944062995910644\n",
            "Epoch = 20 | loss = 0.41197522926330565\n",
            "Epoch = 30 | loss = 0.37397705745697024\n",
            "Epoch = 40 | loss = 0.34378086376190187\n",
            "Epoch = 50 | loss = 0.3280123176574707\n",
            "Epoch = 60 | loss = 0.3349180307388306\n",
            "Epoch = 70 | loss = 0.30878137302398684\n",
            "Epoch = 80 | loss = 0.2865688533782959\n",
            "Epoch = 90 | loss = 0.18606604814529418\n"
          ],
          "name": "stdout"
        }
      ]
    },
    {
      "cell_type": "code",
      "metadata": {
        "colab": {
          "base_uri": "https://localhost:8080/"
        },
        "id": "XX8HSU4k2ObW",
        "outputId": "b52724dc-2c6a-4a1e-9ad7-e6e916e05174"
      },
      "source": [
        "from sklearn.metrics import accuracy_score, precision_score, recall_score, f1_score\n",
        "\n",
        "accuracy = np.zeros((len(test_dataloader)))\n",
        "precision = np.zeros((len(test_dataloader)))\n",
        "recall = np.zeros((len(test_dataloader)))\n",
        "f1 = np.zeros((len(test_dataloader)))\n",
        "\n",
        "for i, data in enumerate(test_dataloader):\n",
        "    # compute metrics (precision, recall, acc, f1) | use scikit learn\n",
        "    x, y = data\n",
        "    x = x.to(device).float()\n",
        "    y = y.to(device).float().reshape(-1,1)\n",
        "\n",
        "    # forward\n",
        "    y_hat = nnet(x).detach().numpy() > 0.5\n",
        "\n",
        "    # metrics\n",
        "    accuracy[i] = accuracy_score(y, y_hat)\n",
        "    precision[i] = precision_score(y, y_hat)\n",
        "    recall[i] = recall_score(y, y_hat)\n",
        "    f1[i] = f1_score(y, y_hat)\n",
        "   \n",
        "print(\"Accuracy: \" + str(accuracy.mean()))  \n",
        "print(\"Precision: \" + str(precision.mean()))\n",
        "print(\"Recall: \" + str(recall.mean()))\n",
        "print(\"F1_score: \" + str(f1.mean()))"
      ],
      "execution_count": 73,
      "outputs": [
        {
          "output_type": "stream",
          "text": [
            "Accuracy: 0.9259664601293103\n",
            "Precision: 0.8707786247439956\n",
            "Recall: 1.0\n",
            "F1_score: 0.9308572388289978\n"
          ],
          "name": "stdout"
        }
      ]
    }
  ]
}