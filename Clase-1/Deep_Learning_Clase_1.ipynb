{
  "nbformat": 4,
  "nbformat_minor": 0,
  "metadata": {
    "colab": {
      "name": "Deep Learning - Clase 1.ipynb",
      "provenance": [],
      "collapsed_sections": [],
      "authorship_tag": "ABX9TyNxmqx8kq9qhu/GEdw33Vni",
      "include_colab_link": true
    },
    "kernelspec": {
      "name": "python3",
      "display_name": "Python 3"
    },
    "language_info": {
      "name": "python"
    }
  },
  "cells": [
    {
      "cell_type": "markdown",
      "metadata": {
        "id": "view-in-github",
        "colab_type": "text"
      },
      "source": [
        "<a href=\"https://colab.research.google.com/github/franz6ko/deep-learning/blob/main/Clase-1/Deep_Learning_Clase_1.ipynb\" target=\"_parent\"><img src=\"https://colab.research.google.com/assets/colab-badge.svg\" alt=\"Open In Colab\"/></a>"
      ]
    },
    {
      "cell_type": "markdown",
      "metadata": {
        "id": "e_w6s17LDP8X"
      },
      "source": [
        "### Regresión lineal para aproximar la función lógica XOR"
      ]
    },
    {
      "cell_type": "code",
      "metadata": {
        "colab": {
          "base_uri": "https://localhost:8080/"
        },
        "id": "PqWWaLSUU-jL",
        "outputId": "92381ce2-323a-410b-b0dc-a617798f5068"
      },
      "source": [
        "import numpy as np\n",
        "import matplotlib.pyplot as plt\n",
        "\n",
        "X = np.array([[0,0,1],[0,1,1],[1,0,1],[1,1,1]])\n",
        "Y = np.array([0,1,1,0]).T\n",
        "w = (np.linalg.inv(X.T @ X)) @ X.T @ Y\n",
        "\n",
        "print(w)"
      ],
      "execution_count": 30,
      "outputs": [
        {
          "output_type": "stream",
          "text": [
            "[0.00000000e+00 2.22044605e-16 5.00000000e-01]\n"
          ],
          "name": "stdout"
        }
      ]
    },
    {
      "cell_type": "markdown",
      "metadata": {
        "id": "Oa-NkmzvEdYL"
      },
      "source": [
        "### Implementación una red neuronal para aproximar la función lógica XOR\n"
      ]
    },
    {
      "cell_type": "markdown",
      "metadata": {
        "id": "Fn4Z7zPejiu9"
      },
      "source": [
        "Notas:\n",
        "\n",
        "- El comportamiento del modelo está muy influido por cómo inicializo las variables. Valores entre 0 y 1 (fx random) no daban buenos resultados al igual que valores distribuidos normalmente con media 0 y desviación estándar 1 (fx randn). Valores entre -10 y 10 con distribución uniforme dan los mejores resultados.\n",
        "\n",
        "- Con las funciones randn y random, el modelo cae siempre en un mínimo local supongo ya que el error siempre está alrededor de 0.25 (3 casos bien y uno mal del dataset)\n",
        "\n",
        "- Curiosamente si despues del forward fuerzo el predict a 0 o 1, el modelo con las funciones randn y random sí converge algunas veces.\n",
        "\n",
        "- Hice un bucle en una segunda parte en la que se corre SGD varias veces y se guarda el mejor resultado."
      ]
    },
    {
      "cell_type": "code",
      "metadata": {
        "id": "p48FP2aRk5vv"
      },
      "source": [
        "X = np.array([[0,0],[0,1],[1,0],[1,1]])\n",
        "Y = np.array([0,1,1,0])"
      ],
      "execution_count": 42,
      "outputs": []
    },
    {
      "cell_type": "code",
      "metadata": {
        "id": "kgv-XN7oIlZ-"
      },
      "source": [
        "def sigmoid(x):\n",
        "  return 1/(1 + np.exp(-x))"
      ],
      "execution_count": 43,
      "outputs": []
    },
    {
      "cell_type": "code",
      "metadata": {
        "colab": {
          "base_uri": "https://localhost:8080/",
          "height": 294
        },
        "id": "giDVlvLJErUh",
        "outputId": "0b750bfd-0820-4685-acd3-8353f50b8d47"
      },
      "source": [
        "## Stochastic Gradient Descent\n",
        "def train_sgd(X, Y, n_epochs, alpha):\n",
        "\n",
        "  n_samples = X.shape[0]\n",
        "\n",
        "  # Random initialization\n",
        "  w111 = np.random.randint(-10,10)\n",
        "  w112 = np.random.randint(-10,10)\n",
        "  b11  = np.random.randint(-10,10)\n",
        "  w121 = np.random.randint(-10,10)\n",
        "  w122 = np.random.randint(-10,10)\n",
        "  b12  = np.random.randint(-10,10)\n",
        "  w211 = np.random.randint(-10,10)\n",
        "  w212 = np.random.randint(-10,10)\n",
        "  b21  = np.random.randint(-10,10)\n",
        "\n",
        "  mse = []\n",
        "\n",
        "  for epoch in range(n_epochs):\n",
        "\n",
        "    # Shuffle the samples\n",
        "    idx = np.random.permutation(n_samples)\n",
        "    X_sh = X[idx]\n",
        "    Y_sh = Y[idx]\n",
        "\n",
        "    errors = []\n",
        "\n",
        "    for i in range(n_samples):\n",
        "\n",
        "      x = X_sh[i]\n",
        "      y = Y_sh[i]\n",
        "\n",
        "      ### Forward\n",
        "      # First layer\n",
        "      z11 = w111 * x[0] + w112 * x[1] + b11\n",
        "      a11 = sigmoid(z11)\n",
        "      z12 = w121 * x[0] + w122 * x[1] + b12\n",
        "      a12 = sigmoid(z12)\n",
        "      # Second layer\n",
        "      z21 = w211 * a11 + w212 * a12 + b21\n",
        "      a21 = sigmoid(z21)\n",
        "      # Output\n",
        "      yp = a21 # > 0.5\n",
        "\n",
        "      ### Log error\n",
        "      errors.append((y - yp)**2)\n",
        "\n",
        "      ### Backward\n",
        "      # First layer\n",
        "      dL_dw111 = -2 * (y - yp) * sigmoid(z21) * (1 - sigmoid(z21)) * w211 * sigmoid(z11) * (1 - sigmoid(z11)) * x[0]\n",
        "      dL_dw112 = -2 * (y - yp) * sigmoid(z21) * (1 - sigmoid(z21)) * w211 * sigmoid(z11) * (1 - sigmoid(z11)) * x[1]\n",
        "      dL_db11  = -2 * (y - yp) * sigmoid(z21) * (1 - sigmoid(z21)) * w211 * sigmoid(z11) * (1 - sigmoid(z11))\n",
        "      dL_dw121 = -2 * (y - yp) * sigmoid(z21) * (1 - sigmoid(z21)) * w212 * sigmoid(z12) * (1 - sigmoid(z12)) * x[0]\n",
        "      dL_dw122 = -2 * (y - yp) * sigmoid(z21) * (1 - sigmoid(z21)) * w212 * sigmoid(z12) * (1 - sigmoid(z12)) * x[1]\n",
        "      dL_db12  = -2 * (y - yp) * sigmoid(z21) * (1 - sigmoid(z21)) * w212 * sigmoid(z12) * (1 - sigmoid(z12))\n",
        "      # Second layer\n",
        "      dL_dw211 = -2 * (y - yp) * sigmoid(z21) * (1 - sigmoid(z21)) * a11\n",
        "      dL_dw212 = -2 * (y - yp) * sigmoid(z21) * (1 - sigmoid(z21)) * a12\n",
        "      dL_db21  = -2 * (y - yp) * sigmoid(z21) * (1 - sigmoid(z21))\n",
        "\n",
        "      ### Parameters update\n",
        "      # First layer\n",
        "      w111 = w111 - alpha * dL_dw111\n",
        "      w112 = w112 - alpha * dL_dw112\n",
        "      b11  = b11  - alpha * dL_db11\n",
        "      w121 = w121 - alpha * dL_dw121\n",
        "      w122 = w122 - alpha * dL_dw122\n",
        "      b12  = b12  - alpha * dL_db12\n",
        "      # Second layer\n",
        "      w211 = w211 - alpha * dL_dw211\n",
        "      w212 = w212 - alpha * dL_dw212\n",
        "      b21  = b21  - alpha * dL_db21\n",
        "    \n",
        "    error = np.mean(errors)\n",
        "    mse.append(error)\n",
        "\n",
        "  params = [w111, w112, b11, w121, w122, b12, w211, w212, b21]\n",
        "  return params, mse\n",
        "\n",
        "params, mse = train_sgd(X, Y, n_epochs=50, alpha = 0.1)\n",
        "plt.plot(mse)"
      ],
      "execution_count": 121,
      "outputs": [
        {
          "output_type": "execute_result",
          "data": {
            "text/plain": [
              "[<matplotlib.lines.Line2D at 0x7f7bf62f6c10>]"
            ]
          },
          "metadata": {
            "tags": []
          },
          "execution_count": 121
        },
        {
          "output_type": "display_data",
          "data": {
            "image/png": "[encoded data removed]",
            "text/plain": [
              "<Figure size 432x288 with 1 Axes>"
            ]
          },
          "metadata": {
            "tags": [],
            "needs_background": "light"
          }
        }
      ]
    },
    {
      "cell_type": "code",
      "metadata": {
        "id": "hJSoWfE7iaK0"
      },
      "source": [
        "w111, w112, b11, w121, w122, b12, w211, w212, b21 = params\n",
        "def predict(x):\n",
        "    # First layer\n",
        "    z11 = w111 * x[0] + w112 * x[1] + b11\n",
        "    a11 = sigmoid(z11)\n",
        "    z12 = w121 * x[0] + w122 * x[1] + b12\n",
        "    a12 = sigmoid(z12)\n",
        "    # Second layer\n",
        "    z21 = w211 * a11 + w212 * a12 + b21\n",
        "    a21 = sigmoid(z21)\n",
        "    # Output\n",
        "    yp = a21 > 0.5\n",
        "    return yp"
      ],
      "execution_count": 124,
      "outputs": []
    },
    {
      "cell_type": "code",
      "metadata": {
        "colab": {
          "base_uri": "https://localhost:8080/"
        },
        "id": "gtw4ZXUkic9r",
        "outputId": "cb7615a9-1fce-4e81-d8a8-7feed98c51bc"
      },
      "source": [
        "predict([0,1])"
      ],
      "execution_count": 133,
      "outputs": [
        {
          "output_type": "execute_result",
          "data": {
            "text/plain": [
              "True"
            ]
          },
          "metadata": {
            "tags": []
          },
          "execution_count": 133
        }
      ]
    },
    {
      "cell_type": "markdown",
      "metadata": {
        "id": "VMerUR78imzM"
      },
      "source": [
        "### Repetir SGD n veces y extraer el mejor resultado"
      ]
    },
    {
      "cell_type": "code",
      "metadata": {
        "colab": {
          "base_uri": "https://localhost:8080/",
          "height": 283
        },
        "id": "h-_GCTTlVK71",
        "outputId": "b3f29639-72d0-4580-86ba-3f386bff3bc2"
      },
      "source": [
        "params, mse = train_sgd(X, Y, n_epochs=100, alpha = 0.1)\n",
        "\n",
        "best_params = params\n",
        "best_mse = mse[-1]\n",
        "\n",
        "mses = []\n",
        "\n",
        "for i in range(50):\n",
        "  params, mse = train_sgd(X, Y, n_epochs=100, alpha = 0.15)\n",
        "  mses.append(mse[-1])\n",
        "  if mse[-1] < best_mse:\n",
        "    best_params, best_mse = params, mse[-1]\n",
        "\n",
        "plt.plot(mses)"
      ],
      "execution_count": 135,
      "outputs": [
        {
          "output_type": "execute_result",
          "data": {
            "text/plain": [
              "[<matplotlib.lines.Line2D at 0x7f7bf6241e10>]"
            ]
          },
          "metadata": {
            "tags": []
          },
          "execution_count": 135
        },
        {
          "output_type": "display_data",
          "data": {
            "image/png": "[encoded data removed]",
            "text/plain": [
              "<Figure size 432x288 with 1 Axes>"
            ]
          },
          "metadata": {
            "tags": [],
            "needs_background": "light"
          }
        }
      ]
    },
    {
      "cell_type": "code",
      "metadata": {
        "colab": {
          "base_uri": "https://localhost:8080/"
        },
        "id": "P1cSzqlNVgUH",
        "outputId": "5782bf60-f06f-4284-8739-e596d52f8c0c"
      },
      "source": [
        "best_mse"
      ],
      "execution_count": 136,
      "outputs": [
        {
          "output_type": "execute_result",
          "data": {
            "text/plain": [
              "0.1602618856136378"
            ]
          },
          "metadata": {
            "tags": []
          },
          "execution_count": 136
        }
      ]
    },
    {
      "cell_type": "code",
      "metadata": {
        "id": "Z1t9SvbdE8sK"
      },
      "source": [
        "w111, w112, b11, w121, w122, b12, w211, w212, b21 = best_params\n",
        "def predict(x):\n",
        "    # First layer\n",
        "    z11 = w111 * x[0] + w112 * x[1] + b11\n",
        "    a11 = sigmoid(z11)\n",
        "    z12 = w121 * x[0] + w122 * x[1] + b12\n",
        "    a12 = sigmoid(z12)\n",
        "    # Second layer\n",
        "    z21 = w211 * a11 + w212 * a12 + b21\n",
        "    a21 = sigmoid(z21)\n",
        "    # Output\n",
        "    yp = a21 > 0.5\n",
        "    return yp"
      ],
      "execution_count": 128,
      "outputs": []
    },
    {
      "cell_type": "code",
      "metadata": {
        "colab": {
          "base_uri": "https://localhost:8080/"
        },
        "id": "tEmRqOTLGjA8",
        "outputId": "c745c958-63a7-463b-db89-5d86fe38f34e"
      },
      "source": [
        "predict([1,0])"
      ],
      "execution_count": 129,
      "outputs": [
        {
          "output_type": "execute_result",
          "data": {
            "text/plain": [
              "True"
            ]
          },
          "metadata": {
            "tags": []
          },
          "execution_count": 129
        }
      ]
    }
  ]
}