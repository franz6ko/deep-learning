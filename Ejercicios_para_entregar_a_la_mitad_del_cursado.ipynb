{
  "nbformat": 4,
  "nbformat_minor": 0,
  "metadata": {
    "colab": {
      "name": "Ejercicios para entregar a la mitad del cursado.ipynb",
      "provenance": [],
      "toc_visible": true,
      "authorship_tag": "ABX9TyMQ2Ain9tekVEPcwi6wz8DQ",
      "include_colab_link": true
    },
    "kernelspec": {
      "name": "python3",
      "display_name": "Python 3"
    },
    "language_info": {
      "name": "python"
    }
  },
  "cells": [
    {
      "cell_type": "markdown",
      "metadata": {
        "id": "view-in-github",
        "colab_type": "text"
      },
      "source": [
        "<a href=\"https://colab.research.google.com/github/franz6ko/deep-learning/blob/main/Ejercicios_para_entregar_a_la_mitad_del_cursado.ipynb\" target=\"_parent\"><img src=\"https://colab.research.google.com/assets/colab-badge.svg\" alt=\"Open In Colab\"/></a>"
      ]
    },
    {
      "cell_type": "code",
      "metadata": {
        "id": "dyCoLlAddqfG"
      },
      "source": [
        "import numpy as np\n",
        "import matplotlib.pyplot as plt"
      ],
      "execution_count": 14,
      "outputs": []
    },
    {
      "cell_type": "markdown",
      "metadata": {
        "id": "xyIpIQOQcJwx"
      },
      "source": [
        "# 1 - Stochastic Gradient Descent"
      ]
    },
    {
      "cell_type": "markdown",
      "metadata": {
        "id": "ucGlCb6EsLdI"
      },
      "source": [
        "## Vanila SGD"
      ]
    },
    {
      "cell_type": "markdown",
      "metadata": {
        "id": "IC3ia8gXiSs5"
      },
      "source": [
        "a) Implementar en Python un algoritmo basado en Stochastic Gradient Descent\n",
        "para encontrar numéricamente el mínimo de 𝑦 = (𝑥 − 2)**2 + 3. ¿Cuál es\n",
        "el mínimo valor que encontró el algoritmo y para qué valor de x? ¿En qué\n",
        "momento detuviste la búsqueda y por qué? ¿Cómo inicializamos los valores\n",
        "random del algoritmo y cómo afectan la convergencia? ¿Cuáles son los hiper\n",
        "parámetros del algoritmo?\n"
      ]
    },
    {
      "cell_type": "code",
      "metadata": {
        "id": "ysRED6WRcDZT"
      },
      "source": [
        "def f(x):\n",
        "  return (x - 2)**2 + 3\n",
        "\n",
        "def fp(x):\n",
        "  return 2*(x - 2)"
      ],
      "execution_count": null,
      "outputs": []
    },
    {
      "cell_type": "code",
      "metadata": {
        "colab": {
          "base_uri": "https://localhost:8080/",
          "height": 282
        },
        "id": "ePiHD1ELdOh5",
        "outputId": "3a901802-9006-44ea-92e0-3e3a2ecd1749"
      },
      "source": [
        "alpha = 0.05\n",
        "tol = 0.01\n",
        "\n",
        "x = np.random.rand()\n",
        "g = 1\n",
        "\n",
        "hist_x = []\n",
        "hist_g = []\n",
        "\n",
        "while abs(g) > tol:\n",
        "  g = fp(x)\n",
        "  x = x - alpha * g\n",
        "  hist_x.append(x)\n",
        "  hist_g.append(g)\n",
        "\n",
        "fig, axs = plt.subplots(2)\n",
        "axs[0].plot(hist_x)\n",
        "axs[1].plot(hist_g)\n",
        "\n",
        "print(\"Min: \" + str(x))"
      ],
      "execution_count": null,
      "outputs": [
        {
          "output_type": "stream",
          "text": [
            "Min: 1.9955791235866507\n"
          ],
          "name": "stdout"
        },
        {
          "output_type": "display_data",
          "data": {
            "image/png": "[encoded data removed]",
            "text/plain": [
              "<Figure size 432x288 with 2 Axes>"
            ]
          },
          "metadata": {
            "tags": [],
            "needs_background": "light"
          }
        }
      ]
    },
    {
      "cell_type": "markdown",
      "metadata": {
        "id": "4R69Iz4Ig1BE"
      },
      "source": [
        "Se detuvo la búsqueda aplicando una tolerancia al valor absoluto del gradiente. Cuando el mismo es lo suficientemente chico, consideramos que estamos muy cerca del mínimo de la función y detenemos el bucle.\n",
        "\n",
        "El único valor que se inicializa aleatoreamente es un valor inicial de x. Para ello usamos la funcion np.random.rand() que devuelve valores entre [0,1).\n",
        "\n",
        "Los hiperparámetros del algoritmo son el alpha y el valor de tolerancia para la detención."
      ]
    },
    {
      "cell_type": "markdown",
      "metadata": {
        "id": "P4PndjzosOIK"
      },
      "source": [
        "## SGD + momento de 1er orden"
      ]
    },
    {
      "cell_type": "markdown",
      "metadata": {
        "id": "t_-lbG9_ib2Q"
      },
      "source": [
        "b) Agregar al algoritmo del punto (a) un momento de primer orden. ¿Cuáles son\n",
        "los hiper parámetros del algoritmo?"
      ]
    },
    {
      "cell_type": "code",
      "metadata": {
        "colab": {
          "base_uri": "https://localhost:8080/",
          "height": 282
        },
        "id": "o5iY0lCKlwnI",
        "outputId": "1cf219a0-4ec6-476c-c536-5fd43f861256"
      },
      "source": [
        "alpha = 0.05\n",
        "tol = 0.01\n",
        "sigma = 0.1\n",
        "\n",
        "x = np.random.rand()\n",
        "g = 1\n",
        "gb = 0\n",
        "\n",
        "hist_x = []\n",
        "hist_g = []\n",
        "\n",
        "while abs(g) > tol:\n",
        "  g = fp(x)\n",
        "  x = x - alpha * g - sigma * gb\n",
        "  gb = g\n",
        "  hist_x.append(x)\n",
        "  hist_g.append(g)\n",
        "\n",
        "fig, axs = plt.subplots(2)\n",
        "axs[0].plot(hist_x)\n",
        "axs[1].plot(hist_g)\n",
        "\n",
        "print(\"Min: \" + str(x))"
      ],
      "execution_count": null,
      "outputs": [
        {
          "output_type": "stream",
          "text": [
            "Min: 1.9980161434733474\n"
          ],
          "name": "stdout"
        },
        {
          "output_type": "display_data",
          "data": {
            "image/png": "[encoded data removed]",
            "text/plain": [
              "<Figure size 432x288 with 2 Axes>"
            ]
          },
          "metadata": {
            "tags": [],
            "needs_background": "light"
          }
        }
      ]
    },
    {
      "cell_type": "markdown",
      "metadata": {
        "id": "fvESeGU5jWfX"
      },
      "source": [
        "Los hiperparámetros del algoritmo ahora son: aplha, la tolerancia y sigma."
      ]
    },
    {
      "cell_type": "markdown",
      "metadata": {
        "id": "IpaVHeWYsToS"
      },
      "source": [
        "## SGD + momento de 2do orden"
      ]
    },
    {
      "cell_type": "markdown",
      "metadata": {
        "id": "XSBBEkDCjTPt"
      },
      "source": [
        "c) Agregar al algoritmo del punto (b) un momento de segundo orden. ¿Cuáles\n",
        "son los hiper parámetros del algoritmo?"
      ]
    },
    {
      "cell_type": "code",
      "metadata": {
        "colab": {
          "base_uri": "https://localhost:8080/",
          "height": 282
        },
        "id": "havM0TlLgdUT",
        "outputId": "6200e1ee-61b3-4deb-a37e-8241155027ea"
      },
      "source": [
        "alpha = 0.05\n",
        "tol = 0.01\n",
        "sigma = 0.1\n",
        "epsilon = 0.1\n",
        "\n",
        "x = np.random.rand()\n",
        "g = 1\n",
        "gb = 0\n",
        "gbb = 0\n",
        "\n",
        "hist_x = []\n",
        "hist_g = []\n",
        "\n",
        "while abs(g) > tol:\n",
        "  g = fp(x)\n",
        "  x = x - alpha * g - sigma * gb - epsilon * gbb\n",
        "  gb = g\n",
        "  gbb = gb\n",
        "  hist_x.append(x)\n",
        "  hist_g.append(g)\n",
        "\n",
        "fig, axs = plt.subplots(2)\n",
        "axs[0].plot(hist_x)\n",
        "axs[1].plot(hist_g)\n",
        "\n",
        "print(\"Min: \" + str(x))"
      ],
      "execution_count": null,
      "outputs": [
        {
          "output_type": "stream",
          "text": [
            "Min: 2.006691069571183\n"
          ],
          "name": "stdout"
        },
        {
          "output_type": "display_data",
          "data": {
            "image/png": "[encoded data removed]",
            "text/plain": [
              "<Figure size 432x288 with 2 Axes>"
            ]
          },
          "metadata": {
            "tags": [],
            "needs_background": "light"
          }
        }
      ]
    },
    {
      "cell_type": "markdown",
      "metadata": {
        "id": "LroqGtg7mzqm"
      },
      "source": [
        "Los hiperparámetros del algoritmo ahora son: aplha, la tolerancia, sigma y epsilon."
      ]
    },
    {
      "cell_type": "markdown",
      "metadata": {
        "id": "MhPA76vPsW6P"
      },
      "source": [
        "## Comparativa"
      ]
    },
    {
      "cell_type": "markdown",
      "metadata": {
        "id": "o_qX2QYCm9RJ"
      },
      "source": [
        "d)  Definir los mismos valores random iniciales para los tres optimizadores (a),\n",
        "(b) y (c). Para todos los casos graficar los gradientes en función de las\n",
        "iteraciones. ¿Qué algoritmo converge más rápido?\n"
      ]
    },
    {
      "cell_type": "code",
      "metadata": {
        "colab": {
          "base_uri": "https://localhost:8080/",
          "height": 316
        },
        "id": "UQlUANeYjSQv",
        "outputId": "32eab07c-6d17-4ee5-b08c-7051c93f9b78"
      },
      "source": [
        "x = np.random.rand()\n",
        "\n",
        "xa = x\n",
        "xb = x\n",
        "xc = x\n",
        "hista = []\n",
        "histb = []\n",
        "histc = []\n",
        "\n",
        "alpha = 0.01\n",
        "tol = 1e-5\n",
        "sigma = 0.1\n",
        "epsilon = 0.05\n",
        "\n",
        "# SGD\n",
        "g = 1\n",
        "while abs(g) > tol:\n",
        "  g = fp(xa)\n",
        "  xa = xa - alpha * g\n",
        "  hista.append(g)\n",
        "\n",
        "# SGD w/1st order momentum\n",
        "g = 1\n",
        "gb = 0\n",
        "while abs(g) > tol:\n",
        "  g = fp(xb)\n",
        "  xb = xb - alpha * g - sigma * gb\n",
        "  gb = g\n",
        "  histb.append(g)\n",
        "\n",
        "# SGD w/2nd order momentum\n",
        "g = 1\n",
        "gb = 0\n",
        "gbb = 0\n",
        "while abs(g) > tol:\n",
        "  g = fp(xc)\n",
        "  xc = xc - alpha * g - sigma * gb - epsilon * gbb\n",
        "  gb = g\n",
        "  gbb = gb\n",
        "  histc.append(g)\n",
        "\n",
        "fig, ax = plt.subplots(1)\n",
        "ax.plot(hista)\n",
        "ax.plot(histb)\n",
        "ax.plot(histc)\n",
        "\n",
        "print(\"SGD exited on epoch nº \" + str(len(hista)))\n",
        "print(\"SGD w/1st order momentum exited on epoch nº \" + str(len(histb)))\n",
        "print(\"SGD w/2nd order momentum exited on epoch nº \" + str(len(histc)))"
      ],
      "execution_count": null,
      "outputs": [
        {
          "output_type": "stream",
          "text": [
            "SGD exited on epoch nº 623\n",
            "SGD w/1st order momentum exited on epoch nº 37\n",
            "SGD w/2nd order momentum exited on epoch nº 24\n"
          ],
          "name": "stdout"
        },
        {
          "output_type": "display_data",
          "data": {
            "image/png": "[encoded data removed]",
            "text/plain": [
              "<Figure size 432x288 with 1 Axes>"
            ]
          },
          "metadata": {
            "tags": [],
            "needs_background": "light"
          }
        }
      ]
    },
    {
      "cell_type": "markdown",
      "metadata": {
        "id": "ZsmAA8xmpKAC"
      },
      "source": [
        "Vemos que el SGD con momento de segundo orden converge más rápido."
      ]
    },
    {
      "cell_type": "code",
      "metadata": {
        "id": "K-M0dU-lnyb4"
      },
      "source": [
        ""
      ],
      "execution_count": null,
      "outputs": []
    },
    {
      "cell_type": "markdown",
      "metadata": {
        "id": "FUCf7C0BpYls"
      },
      "source": [
        "# 2 - Backpropagation y regla de la cadena"
      ]
    },
    {
      "cell_type": "markdown",
      "metadata": {
        "id": "9zcg5t_TscWO"
      },
      "source": [
        "## Diferenciación analítica"
      ]
    },
    {
      "cell_type": "markdown",
      "metadata": {
        "id": "PTpJEgzksGiT"
      },
      "source": [
        "a) Automatic Differentiation: para el grafo de cómputo que se muestra en la\n",
        "siguiente imagen, con a=1, b=2 y c=3, calcular el valor final de Y y la\n",
        "derivada de Y respecto a cada una de las entradas (a, b y c). Para hacer el\n",
        "cálculo, primero realizar el paso forward y luego utilizar backpropagation con\n",
        "la regla de la cadena."
      ]
    },
    {
      "cell_type": "markdown",
      "metadata": {
        "id": "JpwDqWSZr7gq"
      },
      "source": [
        "![Captura.PNG](data:image/png;base64,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)"
      ]
    },
    {
      "cell_type": "code",
      "metadata": {
        "id": "vnGcfFRxr3g_",
        "outputId": "02b589f3-7576-4896-922b-934075bd3f5b",
        "colab": {
          "base_uri": "https://localhost:8080/"
        }
      },
      "source": [
        "# Forward\n",
        "a = 1\n",
        "b = 2\n",
        "c = 3\n",
        "d = a + b\n",
        "e = b - c\n",
        "Y = d * e\n",
        "print(\"d = \" + str(d))\n",
        "print(\"e = \" + str(e))\n",
        "print(\"Y = \" + str(Y))"
      ],
      "execution_count": 4,
      "outputs": [
        {
          "output_type": "stream",
          "text": [
            "d = 3\n",
            "e = -1\n",
            "Y = -3\n"
          ],
          "name": "stdout"
        }
      ]
    },
    {
      "cell_type": "code",
      "metadata": {
        "id": "CR8NVkbzsRy3",
        "outputId": "fe07ffca-2d4a-4b4e-8a9b-1a802c75c725",
        "colab": {
          "base_uri": "https://localhost:8080/"
        }
      },
      "source": [
        "# Backward\n",
        "dY_dd = e\n",
        "dY_de = d\n",
        "\n",
        "dd_da = 1\n",
        "dd_db = 1\n",
        "de_db = 1\n",
        "de_dc = -1\n",
        "\n",
        "dY_da = dY_dd * dd_da\n",
        "dY_db = dY_dd * dd_db + dY_de * de_db\n",
        "dY_dc = dY_de * de_dc\n",
        "\n",
        "print(\"dY_da = \" + str(dY_da))\n",
        "print(\"dY_db = \" + str(dY_db))\n",
        "print(\"dY_dc = \" + str(dY_dc))"
      ],
      "execution_count": 6,
      "outputs": [
        {
          "output_type": "stream",
          "text": [
            "dY_da = -1\n",
            "dY_db = 2\n",
            "dY_dc = -3\n"
          ],
          "name": "stdout"
        }
      ]
    },
    {
      "cell_type": "markdown",
      "metadata": {
        "id": "wF1UIkcEsh6A"
      },
      "source": [
        "## Diferenciación numérica"
      ]
    },
    {
      "cell_type": "markdown",
      "metadata": {
        "id": "kahghXLPuHPT"
      },
      "source": [
        "b) Numerical Differentiation: para el grafo de cómputo que se muestra en la\n",
        "siguiente imagen, con a=1, b=2 y c=3, utilizar la siguiente expresión y un\n",
        "valor de h pequeño para calcular las derivadas respecto de cada entrada.\n",
        "Comparar los resultados con los obtenidos en el punto (a)"
      ]
    },
    {
      "cell_type": "markdown",
      "metadata": {
        "id": "mPxpQJJ6ueei"
      },
      "source": [
        "![Captura.PNG](data:image/png;base64,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)"
      ]
    },
    {
      "cell_type": "code",
      "metadata": {
        "id": "Kn4oS_vXttN-"
      },
      "source": [
        "def calcY(a,b,c):\n",
        "  d = a + b\n",
        "  e = b - c\n",
        "  Y = d * e\n",
        "  return Y"
      ],
      "execution_count": 8,
      "outputs": []
    },
    {
      "cell_type": "code",
      "metadata": {
        "id": "_ye4WG5Uu4II"
      },
      "source": [
        "h = 0.001"
      ],
      "execution_count": 10,
      "outputs": []
    },
    {
      "cell_type": "code",
      "metadata": {
        "id": "leTo6YASvIm2",
        "outputId": "46f5d5e6-bbc6-4030-b21a-db440631806d",
        "colab": {
          "base_uri": "https://localhost:8080/"
        }
      },
      "source": [
        "print(\"dY_da ~= \" + str((calcY(a+h,b,c)-calcY(a,b,c))/h))\n",
        "print(\"dY_db ~= \" + str((calcY(a,b+h,c)-calcY(a,b,c))/h))\n",
        "print(\"dY_dc ~= \" + str((calcY(a,b,c+h)-calcY(a,b,c))/h))"
      ],
      "execution_count": 11,
      "outputs": [
        {
          "output_type": "stream",
          "text": [
            "dY_da ~= -0.9999999999998899\n",
            "dY_db ~= 2.0009999999999195\n",
            "dY_dc ~= -2.9999999999996696\n"
          ],
          "name": "stdout"
        }
      ]
    },
    {
      "cell_type": "markdown",
      "metadata": {
        "id": "7QC3AKq4vdaC"
      },
      "source": [
        "# 3 - Deep Learning y Regularización"
      ]
    },
    {
      "cell_type": "markdown",
      "metadata": {
        "id": "PCWHassUsmVI"
      },
      "source": [
        "## Creación del Dataset"
      ]
    },
    {
      "cell_type": "markdown",
      "metadata": {
        "id": "9LtS-uuqvm1v"
      },
      "source": [
        "a) Crear un dataset sintético con 10,000 muestras a partir de la siguiente\n",
        "expresión, donde N es una normal de media cero y desvío 0.2. Utilizar 80%\n",
        "de los datos para entrenamiento y 20% de los datos para testing.\n",
        "𝑦 = (𝑥 − 2)**2 + 3 + 𝑁"
      ]
    },
    {
      "cell_type": "code",
      "metadata": {
        "id": "Ph2F7-fuvl5m"
      },
      "source": [
        "samples = 10000\n",
        "N = np.random.normal(loc=0.0, scale=0.2, size=samples)\n",
        "x = np.random.uniform(low=-5.0, high=9.0, size=samples)\n",
        "y = (x-2)**2 + 3 + N"
      ],
      "execution_count": 228,
      "outputs": []
    },
    {
      "cell_type": "code",
      "metadata": {
        "id": "UheQe5-Dv5aW",
        "outputId": "8566a3d7-7c8b-4f82-e5fe-e615f023af46",
        "colab": {
          "base_uri": "https://localhost:8080/",
          "height": 282
        }
      },
      "source": [
        "plt.scatter(x,y)"
      ],
      "execution_count": 229,
      "outputs": [
        {
          "output_type": "execute_result",
          "data": {
            "text/plain": [
              "<matplotlib.collections.PathCollection at 0x7f0b1a72ffd0>"
            ]
          },
          "metadata": {
            "tags": []
          },
          "execution_count": 229
        },
        {
          "output_type": "display_data",
          "data": {
            "image/png": "[encoded data removed]",
            "text/plain": [
              "<Figure size 432x288 with 1 Axes>"
            ]
          },
          "metadata": {
            "tags": [],
            "needs_background": "light"
          }
        }
      ]
    },
    {
      "cell_type": "code",
      "metadata": {
        "id": "KQlb6evMQdRZ"
      },
      "source": [
        "# Normalize dataset\n",
        "from sklearn.preprocessing import MinMaxScaler\n",
        "scaler = MinMaxScaler()\n",
        "x = scaler.fit_transform(x.reshape(-1,1))\n",
        "x = x.reshape((10000,))\n",
        "scaler_y = MinMaxScaler()\n",
        "y = scaler_y.fit_transform(y.reshape(-1,1))\n",
        "y = y.reshape((10000,))"
      ],
      "execution_count": 230,
      "outputs": []
    },
    {
      "cell_type": "code",
      "metadata": {
        "id": "UAEETQViR4hv",
        "outputId": "5fca39e4-9f16-4e06-fd72-4148ba75f939",
        "colab": {
          "base_uri": "https://localhost:8080/",
          "height": 265
        }
      },
      "source": [
        "plt.scatter(x,y);"
      ],
      "execution_count": 232,
      "outputs": [
        {
          "output_type": "display_data",
          "data": {
            "image/png": "[encoded data removed]",
            "text/plain": [
              "<Figure size 432x288 with 1 Axes>"
            ]
          },
          "metadata": {
            "tags": [],
            "needs_background": "light"
          }
        }
      ]
    },
    {
      "cell_type": "code",
      "metadata": {
        "id": "xk39gHJExEfX"
      },
      "source": [
        "idx_split = round(samples*0.8)\n",
        "x_train = x[:idx_split]\n",
        "y_train = y[:idx_split]\n",
        "x_test = x[idx_split:]\n",
        "y_test = y[idx_split:]"
      ],
      "execution_count": 173,
      "outputs": []
    },
    {
      "cell_type": "code",
      "metadata": {
        "id": "4eXjwMoXxrd2",
        "outputId": "26c91e58-ee44-4393-fef1-93d8cb4124f7",
        "colab": {
          "base_uri": "https://localhost:8080/"
        }
      },
      "source": [
        "print(x_train.shape)\n",
        "print(y_train.shape)\n",
        "print(x_test.shape)\n",
        "print(y_test.shape)"
      ],
      "execution_count": 174,
      "outputs": [
        {
          "output_type": "stream",
          "text": [
            "(8000,)\n",
            "(8000,)\n",
            "(2000,)\n",
            "(2000,)\n"
          ],
          "name": "stdout"
        }
      ]
    },
    {
      "cell_type": "markdown",
      "metadata": {
        "id": "7jFiNLabsrED"
      },
      "source": [
        "## Mini-batch SGD"
      ]
    },
    {
      "cell_type": "markdown",
      "metadata": {
        "id": "WhjS2ogYyDns"
      },
      "source": [
        "b) Suponer que se tiene un modelo, tal que la relación entre la salida y la\n",
        "entrada está dada por la ecuación presentada a continuación. Suponiendo\n",
        "que se va a utilizar mini-batch SGD para encontrar los valores óptimos de los\n",
        "pesos w1, w2 y w3 tal que minimizan el ECM (Error Cuadrático Medio) (el\n",
        "ECM es la función de costo para este problema), ¿cuál sería la regla de\n",
        "actualización de cada parámetro?. Implementar el algoritmo en Python (usar\n",
        "mini-batch), encontrar los valores óptimos para w1, w2 y w3 y reportar ECM\n",
        "sobre dataset de entrenamiento y dataset de testing."
      ]
    },
    {
      "cell_type": "markdown",
      "metadata": {
        "id": "6BbgoCXnyuiB"
      },
      "source": [
        "![Captura.PNG](data:image/png;base64,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)"
      ]
    },
    {
      "cell_type": "code",
      "metadata": {
        "id": "SnFEyAZFyB4A",
        "outputId": "61e52881-3f3c-4e6a-ff1c-3378e8fbb83f",
        "colab": {
          "base_uri": "https://localhost:8080/",
          "height": 315
        }
      },
      "source": [
        "alpha = 0.001\n",
        "epochs = 100\n",
        "n_batches = 100\n",
        "n_samples = x_train.shape[0]\n",
        "\n",
        "w = np.random.rand(3)\n",
        "\n",
        "train_loss_hist = []\n",
        "test_loss_hist = []\n",
        "\n",
        "x_test_vec = np.vstack((x_test**2, x_test, x_test*0+1))\n",
        "\n",
        "for epoch in range(epochs):\n",
        "    # Shuffle samples and create batches\n",
        "    batch_size = int(n_samples / n_batches)\n",
        "    idx = np.random.permutation(n_samples)\n",
        "    x_sh = x_train[idx]\n",
        "    y_sh = y_train[idx]\n",
        "\n",
        "    train_loss = np.zeros(n_batches)\n",
        "    test_loss = np.zeros(n_batches)\n",
        "  \n",
        "    for i in range(n_batches):\n",
        "        bx = x_sh[i * batch_size:(i + 1) * batch_size]\n",
        "        by = y_sh[i * batch_size:(i + 1) * batch_size]\n",
        "\n",
        "        bx_vec =  np.vstack((bx**2, bx, bx*0+1))\n",
        "\n",
        "        # Forward\n",
        "        yp = w @ bx_vec\n",
        "        yp_test = w @ x_test_vec\n",
        "\n",
        "        # Errors\n",
        "        e = by - yp\n",
        "        train_loss[i] = (e**2).mean()\n",
        "\n",
        "        e_test = (y_test - yp_test)\n",
        "        test_loss[i] = (e_test**2).mean()\n",
        "\n",
        "        # Backward\n",
        "        grad = -2 * np.mean(e * bx_vec, axis=1)\n",
        "\n",
        "        # Weights update\n",
        "        w = w - alpha * grad\n",
        "\n",
        "    train_loss_hist.append(train_loss.mean())\n",
        "    test_loss_hist.append(test_loss.mean())\n",
        "\n",
        "fig, axs = plt.subplots(2)\n",
        "axs[0].plot(train_loss_hist)\n",
        "axs[0].set_xlabel('epochs')\n",
        "axs[0].set_ylabel('train_loss')\n",
        "axs[1].plot(test_loss_hist)\n",
        "axs[1].set_xlabel('epochs')\n",
        "axs[1].set_ylabel('test_loss')\n",
        "\n",
        "print(\"Final train loss: \" + str(train_loss_hist[-1]))\n",
        "print(\"Final test loss: \" + str(test_loss_hist[-1]))"
      ],
      "execution_count": 175,
      "outputs": [
        {
          "output_type": "stream",
          "text": [
            "Final train loss: 0.08693554158872507\n",
            "Final test loss: 0.08595128778397447\n"
          ],
          "name": "stdout"
        },
        {
          "output_type": "display_data",
          "data": {
            "image/png": "[encoded data removed]",
            "text/plain": [
              "<Figure size 432x288 with 2 Axes>"
            ]
          },
          "metadata": {
            "tags": [],
            "needs_background": "light"
          }
        }
      ]
    },
    {
      "cell_type": "markdown",
      "metadata": {
        "id": "2WXBWiVdAfJ7"
      },
      "source": [
        "En cada epoch, los parámetros w se actualizan según la ecuación (w = w - alpha * grad) donde el gradiente de la función de costo depende del promedio de los errores de estimación del batch multiplicados por las derivadas parciales para cada parámetro (x^2, x, 1)."
      ]
    },
    {
      "cell_type": "markdown",
      "metadata": {
        "id": "L953DiXCsxv3"
      },
      "source": [
        "## Mini-batch SGD + regularización L2"
      ]
    },
    {
      "cell_type": "markdown",
      "metadata": {
        "id": "Hst5D3fnBH89"
      },
      "source": [
        "c)  Ahora se le agrega regularización l2 a la función de costo, ¿cómo cambia la\n",
        "regla de actualización de cada parámetro?. Implementar el algoritmo en\n",
        "Python (usar mini-batch), encontrar los valores óptimos para w1, w2 y w3 y\n",
        "reportar ECM sobre dataset de entrenamiento y dataset de testing.\n",
        "Seleccionar manualmente los parámetros para el learning rate y para el\n",
        "coeficiente de regularización.\n"
      ]
    },
    {
      "cell_type": "code",
      "metadata": {
        "id": "ITnP6IB-43mJ",
        "outputId": "be3c2d34-5eca-4b5e-83e1-5a9dcc68730b",
        "colab": {
          "base_uri": "https://localhost:8080/",
          "height": 313
        }
      },
      "source": [
        "alpha = 0.001\n",
        "lbd = 0.03\n",
        "epochs = 100\n",
        "n_batches = 100\n",
        "n_samples = x_train.shape[0]\n",
        "\n",
        "w = np.random.rand(3)\n",
        "\n",
        "train_loss_hist = []\n",
        "test_loss_hist = []\n",
        "\n",
        "x_test_vec = np.vstack((x_test**2, x_test, x_test*0+1))\n",
        "\n",
        "for epoch in range(epochs):\n",
        "    # Shuffle samples and create batches\n",
        "    batch_size = int(n_samples / n_batches)\n",
        "    idx = np.random.permutation(n_samples)\n",
        "    x_sh = x_train[idx]\n",
        "    y_sh = y_train[idx]\n",
        "\n",
        "    train_loss = np.zeros(n_batches)\n",
        "    test_loss = np.zeros(n_batches)\n",
        "  \n",
        "    for i in range(n_batches):\n",
        "        bx = x_sh[i * batch_size:(i + 1) * batch_size]\n",
        "        by = y_sh[i * batch_size:(i + 1) * batch_size]\n",
        "\n",
        "        bx_vec =  np.vstack((bx**2, bx, bx*0+1))\n",
        "\n",
        "        # Forward\n",
        "        yp = w @ bx_vec\n",
        "        yp_test = w @ x_test_vec\n",
        "\n",
        "        # Errors\n",
        "        e = by - yp\n",
        "        train_loss[i] = (e**2).mean()\n",
        "\n",
        "        e_test = (y_test - yp_test)\n",
        "        test_loss[i] = (e_test**2).mean()\n",
        "\n",
        "        # Backward\n",
        "        grad = -2 * np.mean(e * bx_vec, axis=1)\n",
        "\n",
        "        # Weights update\n",
        "        w = (1 - lbd * alpha / batch_size) * w - alpha * grad\n",
        "\n",
        "    train_loss_hist.append(train_loss.mean())\n",
        "    test_loss_hist.append(test_loss.mean())\n",
        "\n",
        "fig, axs = plt.subplots(2)\n",
        "axs[0].plot(train_loss_hist)\n",
        "axs[0].set_xlabel('epochs')\n",
        "axs[0].set_ylabel('train_loss')\n",
        "axs[1].plot(test_loss_hist)\n",
        "axs[1].set_xlabel('epochs')\n",
        "axs[1].set_ylabel('test_loss')\n",
        "\n",
        "print(\"Final train loss: \" + str(train_loss_hist[-1]))\n",
        "print(\"Final test loss: \" + str(test_loss_hist[-1]))"
      ],
      "execution_count": 176,
      "outputs": [
        {
          "output_type": "stream",
          "text": [
            "Final train loss: 0.08024432538968201\n",
            "Final test loss: 0.0793075066845426\n"
          ],
          "name": "stdout"
        },
        {
          "output_type": "display_data",
          "data": {
            "image/png": "[encoded data removed]",
            "text/plain": [
              "<Figure size 432x288 with 2 Axes>"
            ]
          },
          "metadata": {
            "tags": [],
            "needs_background": "light"
          }
        }
      ]
    },
    {
      "cell_type": "markdown",
      "metadata": {
        "id": "WlJ64zmfs6wb"
      },
      "source": [
        "## Optimización de HP con Grid Search"
      ]
    },
    {
      "cell_type": "markdown",
      "metadata": {
        "id": "5e-RAbMULCXG"
      },
      "source": [
        "d)  En lugar de seleccionar manualmente el learning rate y el coeficiente de\n",
        "regularización, utiliza el 10% del dataset de entrenamiento como dataset de\n",
        "validación. Hacer una búsqueda (grid search) de los hiper parámetros que\n",
        "mejor resultado te dan para el ECM sobre el dataset de validación. Luego,\n",
        "utiliza los mejores hiper parámetros para reportar las métricas sobre el\n",
        "dataset de testing."
      ]
    },
    {
      "cell_type": "code",
      "metadata": {
        "id": "vzufWNbQ5IIH"
      },
      "source": [
        "# 70/10/20 (train/val/test)\n",
        "idx_split_train = round(samples*0.7)\n",
        "idx_split_val = round(samples*0.8)\n",
        "x_train = x[:idx_split_train]\n",
        "y_train = y[:idx_split_train]\n",
        "x_val = x[idx_split_train:idx_split_val]\n",
        "y_val = y[idx_split_train:idx_split_val]\n",
        "x_test = x[idx_split_val:]\n",
        "y_test = y[idx_split_val:]"
      ],
      "execution_count": 221,
      "outputs": []
    },
    {
      "cell_type": "code",
      "metadata": {
        "id": "IRI_GlAj5JEo",
        "outputId": "9326a1ac-b032-402b-d1aa-a4d7132cb48f",
        "colab": {
          "base_uri": "https://localhost:8080/"
        }
      },
      "source": [
        "print(x_train.shape)\n",
        "print(y_train.shape)\n",
        "print(x_val.shape)\n",
        "print(y_val.shape)\n",
        "print(x_test.shape)\n",
        "print(y_test.shape)"
      ],
      "execution_count": 222,
      "outputs": [
        {
          "output_type": "stream",
          "text": [
            "(7000,)\n",
            "(7000,)\n",
            "(1000,)\n",
            "(1000,)\n",
            "(2000,)\n",
            "(2000,)\n"
          ],
          "name": "stdout"
        }
      ]
    },
    {
      "cell_type": "code",
      "metadata": {
        "id": "G0tzNtDnLtlx"
      },
      "source": [
        "# Encapsule mini-batch SGD w/l2 regularization\n",
        "\n",
        "def mb_sgd_l2(x_t, y_t, x_v, y_v, alpha, lbd, n_epochs, n_batches):\n",
        "\n",
        "  n_samples = x_t.shape[0]\n",
        "\n",
        "  w = np.random.rand(3)\n",
        "\n",
        "  train_loss_hist = []\n",
        "  val_loss_hist = []\n",
        "\n",
        "  x_v_vec = np.vstack((x_v**2, x_v, x_v*0+1))\n",
        "\n",
        "  for epoch in range(n_epochs):\n",
        "      # Shuffle samples and create batches\n",
        "      batch_size = int(n_samples / n_batches)\n",
        "      idx = np.random.permutation(n_samples)\n",
        "      x_sh = x_t[idx]\n",
        "      y_sh = y_t[idx]\n",
        "\n",
        "      train_loss = np.zeros(n_batches)\n",
        "      val_loss = np.zeros(n_batches)\n",
        "    \n",
        "      for i in range(n_batches):\n",
        "          bx = x_sh[i * batch_size:(i + 1) * batch_size]\n",
        "          by = y_sh[i * batch_size:(i + 1) * batch_size]\n",
        "\n",
        "          bx_vec =  np.vstack((bx**2, bx, bx*0+1))\n",
        "\n",
        "          # Forward\n",
        "          yp = w @ bx_vec\n",
        "          yp_v = w @ x_v_vec\n",
        "\n",
        "          # Errors\n",
        "          e = by - yp\n",
        "          train_loss[i] = (e**2).mean()\n",
        "\n",
        "          e_test = (y_v - yp_v)\n",
        "          val_loss[i] = (e_test**2).mean()\n",
        "\n",
        "          # Backward\n",
        "          grad = -2 * np.mean(e * bx_vec, axis=1)\n",
        "\n",
        "          # Weights update\n",
        "          w = (1 - lbd * alpha / batch_size) * w - alpha * grad\n",
        "\n",
        "      train_loss_hist.append(train_loss.mean())\n",
        "      val_loss_hist.append(val_loss.mean())\n",
        "    \n",
        "  return train_loss_hist, val_loss_hist, w"
      ],
      "execution_count": 223,
      "outputs": []
    },
    {
      "cell_type": "code",
      "metadata": {
        "id": "lNg0d-BtNuF9"
      },
      "source": [
        "# Grid search\n",
        "alphas = np.linspace(0.0001, 0.001, 10)\n",
        "lambdas = np.linspace(1e-7, 0.001, 10)\n",
        "\n",
        "losses = np.zeros((len(alphas), len(lambdas)))\n",
        "\n",
        "for i,alpha in enumerate(alphas):\n",
        "  for j,lbd in enumerate(lambdas):\n",
        "    t_loss, v_loss, w = mb_sgd_l2(x_train, y_train, x_val, y_val, alpha, lbd, n_epochs=100, n_batches=100)\n",
        "    losses[i][j] = v_loss[-1]"
      ],
      "execution_count": 243,
      "outputs": []
    },
    {
      "cell_type": "code",
      "metadata": {
        "id": "zDk018JrTFl9",
        "outputId": "6f6e9dec-0906-4a0a-cf63-7c022e00d704",
        "colab": {
          "base_uri": "https://localhost:8080/"
        }
      },
      "source": [
        "losses"
      ],
      "execution_count": 246,
      "outputs": [
        {
          "output_type": "execute_result",
          "data": {
            "text/plain": [
              "array([[2.9506286 , 2.44836506, 2.69868406, 2.84278014, 2.44114834,\n",
              "        2.74165847, 2.24889329, 2.27351026, 2.45361402, 2.83309512],\n",
              "       [0.3720246 , 0.37980718, 0.4241051 , 0.39645311, 0.39242672,\n",
              "        0.32755128, 0.37905592, 0.31944558, 0.39479018, 0.35567236],\n",
              "       [0.08551883, 0.07908164, 0.07584584, 0.07830327, 0.08456136,\n",
              "        0.08506283, 0.0788736 , 0.07929763, 0.08416174, 0.08337397],\n",
              "       [0.04373407, 0.04298578, 0.04328555, 0.04235529, 0.04273338,\n",
              "        0.04300411, 0.04316019, 0.04270279, 0.04279167, 0.0429587 ],\n",
              "       [0.03867457, 0.03837412, 0.03842421, 0.0384276 , 0.03827245,\n",
              "        0.03847472, 0.03825569, 0.03853405, 0.0384168 , 0.03855554],\n",
              "       [0.03784554, 0.03787807, 0.03789347, 0.03795135, 0.03800302,\n",
              "        0.03794869, 0.03808467, 0.03797764, 0.03808652, 0.03799639],\n",
              "       [0.03843437, 0.03815945, 0.03835624, 0.03806966, 0.03806078,\n",
              "        0.03821416, 0.03814576, 0.0381993 , 0.03818236, 0.03814673],\n",
              "       [0.03864103, 0.03941264, 0.03870061, 0.03890684, 0.03849984,\n",
              "        0.03932563, 0.03879733, 0.03856725, 0.03865066, 0.03869943],\n",
              "       [0.03929853, 0.04157058, 0.03981828, 0.04032251, 0.03888933,\n",
              "        0.03918504, 0.04000885, 0.04295209, 0.04095662, 0.04096188],\n",
              "       [0.04508515, 0.04383807, 0.04802127, 0.06559678, 0.04726739,\n",
              "        0.04135137, 0.04563014, 0.04550987, 0.0420655 , 0.04029951]])"
            ]
          },
          "metadata": {
            "tags": []
          },
          "execution_count": 246
        }
      ]
    },
    {
      "cell_type": "code",
      "metadata": {
        "id": "eWp02w-IN5wH",
        "outputId": "f967ee65-6ea2-40cd-8004-659dcce01490",
        "colab": {
          "base_uri": "https://localhost:8080/",
          "height": 296
        }
      },
      "source": [
        "import seaborn as sns\n",
        "ax = sns.heatmap(losses)\n",
        "ax.set_xlabel(\"Lambda\")\n",
        "ax.set_ylabel(\"Alpha\")"
      ],
      "execution_count": 247,
      "outputs": [
        {
          "output_type": "execute_result",
          "data": {
            "text/plain": [
              "Text(33.0, 0.5, 'Alpha')"
            ]
          },
          "metadata": {
            "tags": []
          },
          "execution_count": 247
        },
        {
          "output_type": "display_data",
          "data": {
            "image/png": "[encoded data removed]",
            "text/plain": [
              "<Figure size 432x288 with 2 Axes>"
            ]
          },
          "metadata": {
            "tags": [],
            "needs_background": "light"
          }
        }
      ]
    },
    {
      "cell_type": "code",
      "metadata": {
        "id": "JM1OGWLqPnrM",
        "outputId": "615863ab-30d8-4183-d526-e19284064216",
        "colab": {
          "base_uri": "https://localhost:8080/"
        }
      },
      "source": [
        "i,j = np.unravel_index(np.argmin(losses), losses.shape)\n",
        "print(\"Min loss: \" + str(losses[i][j]))\n",
        "print(\"Alpha: \" + str(alphas[i]))\n",
        "print(\"Lambda: \" + str(lambdas[j]))\n",
        "opt_alpha = alphas[i]\n",
        "opt_lambda = lambdas[j]"
      ],
      "execution_count": 251,
      "outputs": [
        {
          "output_type": "stream",
          "text": [
            "Min loss: 0.03784554036279844\n",
            "Alpha: 0.0006000000000000001\n",
            "Lambda: 1e-07\n"
          ],
          "name": "stdout"
        }
      ]
    },
    {
      "cell_type": "code",
      "metadata": {
        "id": "gsZoa98uTNJ9"
      },
      "source": [
        "# Train set metrics\n",
        "t_loss, test_loss, test_w = mb_sgd_l2(x_train, y_train, x_test, y_test, opt_alpha, opt_lambda, n_epochs=100, n_batches=100)"
      ],
      "execution_count": 252,
      "outputs": []
    },
    {
      "cell_type": "code",
      "metadata": {
        "id": "GDIg9Rn6XFbc",
        "outputId": "1a798e32-a9f6-496d-d9f1-02d2aaae9f18",
        "colab": {
          "base_uri": "https://localhost:8080/",
          "height": 282
        }
      },
      "source": [
        "print(\"Test set MSE: \" + str(test_loss[-1]))\n",
        "plt.plot(test_loss);"
      ],
      "execution_count": 253,
      "outputs": [
        {
          "output_type": "stream",
          "text": [
            "Test set MSE: 0.039574787192970674\n"
          ],
          "name": "stdout"
        },
        {
          "output_type": "display_data",
          "data": {
            "image/png": "[encoded data removed]",
            "text/plain": [
              "<Figure size 432x288 with 1 Axes>"
            ]
          },
          "metadata": {
            "tags": [],
            "needs_background": "light"
          }
        }
      ]
    },
    {
      "cell_type": "code",
      "metadata": {
        "id": "zfjfsnS5XMMa",
        "outputId": "0a3634d5-98bd-4c6f-e38f-c8c9e09a9eb9",
        "colab": {
          "base_uri": "https://localhost:8080/",
          "height": 265
        }
      },
      "source": [
        "# Visualize examples\n",
        "n = 30\n",
        "x_stest = x_test[:n]\n",
        "y_stest = y_test[:n]\n",
        "\n",
        "x_stest_vec = np.vstack((x_stest**2, x_stest, x_stest*0+1))\n",
        "yp_stest = test_w @ x_stest_vec\n",
        "\n",
        "plt.scatter(x_stest, yp_stest, label=\"predicted\")\n",
        "plt.scatter(x_stest, y_stest, label=\"real\")\n",
        "plt.legend();"
      ],
      "execution_count": 257,
      "outputs": [
        {
          "output_type": "display_data",
          "data": {
            "image/png": "[encoded data removed]",
            "text/plain": [
              "<Figure size 432x288 with 1 Axes>"
            ]
          },
          "metadata": {
            "tags": [],
            "needs_background": "light"
          }
        }
      ]
    },
    {
      "cell_type": "markdown",
      "metadata": {
        "id": "o9xEiDKLtCe2"
      },
      "source": [
        "## Deep Learning con PyTorch"
      ]
    },
    {
      "cell_type": "markdown",
      "metadata": {
        "id": "6uNsaLr_a466"
      },
      "source": [
        "e) En los puntos (b), (c) y (d) utilizaste Python para hacer la implementación y el\n",
        "modelo ya estaba establecido. En este punto se pide hacer una\n",
        "implementación con Deep Learning en PyTorch. Las redes neuronales, si\n",
        "tienen la suficiente cantidad de layers y se están utilizando las funciones de\n",
        "activación adecuadas, son capaces de representar cualquier función para\n",
        "mapear la entrada a la salida. Proponer una arquitectura, agregar\n",
        "regularización mediante la técnica dropout, entrenar la red neuronal, buscar\n",
        "los mejores hiper parámetros y presentar el ECM sobre el dataset de testing.\n",
        "Comparar los resultados obtenidos en (e) con los puntos anteriores.\n"
      ]
    },
    {
      "cell_type": "code",
      "metadata": {
        "id": "n85rXYlcYDTU"
      },
      "source": [
        "import torch\n",
        "from torch.utils.data import Dataset, DataLoader"
      ],
      "execution_count": 258,
      "outputs": []
    },
    {
      "cell_type": "code",
      "metadata": {
        "id": "HTT_Jc3jbPL2"
      },
      "source": [
        "class CustomDataset(Dataset):\n",
        "    def __init__(self, X, Y):\n",
        "        super().__init__()\n",
        "        self.X = X\n",
        "        self.Y = Y\n",
        "\n",
        "    def __len__(self):\n",
        "        return self.X.shape[0]\n",
        "\n",
        "    def __getitem__(self, idx):\n",
        "        return self.X[idx], self.Y[idx]"
      ],
      "execution_count": 266,
      "outputs": []
    },
    {
      "cell_type": "code",
      "metadata": {
        "id": "TExBXqtWbSzO"
      },
      "source": [
        "training = CustomDataset(x_train, y_train)\n",
        "validation = CustomDataset(x_val, y_val)\n",
        "testing = CustomDataset(x_test, y_test)"
      ],
      "execution_count": 267,
      "outputs": []
    },
    {
      "cell_type": "code",
      "metadata": {
        "id": "LgUNtJkFbfkV"
      },
      "source": [
        "batch_size = 100\n",
        "training_dataloader = DataLoader(training, batch_size, shuffle=True)\n",
        "validation_dataloader = DataLoader(validation, batch_size, shuffle=True)\n",
        "test_dataloader = DataLoader(testing, batch_size, shuffle=True)"
      ],
      "execution_count": 362,
      "outputs": []
    },
    {
      "cell_type": "code",
      "metadata": {
        "id": "3MIO5uiebob2"
      },
      "source": [
        "class NNet(torch.nn.Module):\n",
        "    def __init__(self):\n",
        "        super().__init__()\n",
        "        self.linear_1 = torch.nn.Linear(in_features=1, out_features=40, bias=True)\n",
        "        self.relu_1 = torch.nn.LeakyReLU()\n",
        "        self.dropout_1 = torch.nn.Dropout(0.01)\n",
        "        self.linear_2 = torch.nn.Linear(in_features=40, out_features=20, bias=True)\n",
        "        self.relu_2 = torch.nn.LeakyReLU()\n",
        "        self.dropout_2 = torch.nn.Dropout(0.01)\n",
        "        self.linear_3 = torch.nn.Linear(in_features=20, out_features=1, bias=True)\n",
        "\n",
        "    def forward(self, x):\n",
        "        z1 = self.linear_1(x)\n",
        "        a1 = self.relu_1(z1)\n",
        "        d1 = self.dropout_1(a1)\n",
        "        z2 = self.linear_2(d1)\n",
        "        a2 = self.relu_2(z2)\n",
        "        d2 = self.dropout_2(a2)\n",
        "        y  = self.linear_3(d2)\n",
        "        return y"
      ],
      "execution_count": 413,
      "outputs": []
    },
    {
      "cell_type": "code",
      "metadata": {
        "id": "zNIXZZW7cQqg",
        "outputId": "c0ab5363-877e-4287-cab3-836081f11f1c",
        "colab": {
          "base_uri": "https://localhost:8080/"
        }
      },
      "source": [
        "nnet = NNet()\n",
        "print(nnet)"
      ],
      "execution_count": 414,
      "outputs": [
        {
          "output_type": "stream",
          "text": [
            "NNet(\n",
            "  (linear_1): Linear(in_features=1, out_features=40, bias=True)\n",
            "  (relu_1): LeakyReLU(negative_slope=0.01)\n",
            "  (dropout_1): Dropout(p=0.01, inplace=False)\n",
            "  (linear_2): Linear(in_features=40, out_features=20, bias=True)\n",
            "  (relu_2): LeakyReLU(negative_slope=0.01)\n",
            "  (dropout_2): Dropout(p=0.01, inplace=False)\n",
            "  (linear_3): Linear(in_features=20, out_features=1, bias=True)\n",
            ")\n"
          ],
          "name": "stdout"
        }
      ]
    },
    {
      "cell_type": "code",
      "metadata": {
        "id": "RHpV3WaYcSJ9"
      },
      "source": [
        "criterion = torch.nn.MSELoss(reduction='mean') # Loss function\n",
        "optimizer = torch.optim.Adam(nnet.parameters(), lr=0.0005) # Optimizer"
      ],
      "execution_count": 415,
      "outputs": []
    },
    {
      "cell_type": "code",
      "metadata": {
        "id": "nWZyrGvqcaY3",
        "outputId": "531a6598-f0f3-4ab6-bd71-7a0351a24045",
        "colab": {
          "base_uri": "https://localhost:8080/"
        }
      },
      "source": [
        "for epoch in range(500):\n",
        "\n",
        "    training_loss = 0\n",
        "    nnet.train()\n",
        "\n",
        "    for i, data in enumerate(training_dataloader):\n",
        "\n",
        "        # batch\n",
        "        x, y = data\n",
        "        x = x.float().reshape(-1,1)\n",
        "        y = y.float().reshape(-1,1)\n",
        "\n",
        "        # set gradient to zero\n",
        "        optimizer.zero_grad()\n",
        "\n",
        "        # forward \n",
        "        y_hat = nnet(x)\n",
        "\n",
        "        # loss\n",
        "        loss = criterion(y_hat, y)\n",
        "\n",
        "        # backward\n",
        "        loss.backward()\n",
        "\n",
        "        # update of parameters\n",
        "        optimizer.step()\n",
        "\n",
        "        # compute metrics and statistics\n",
        "        training_loss += loss.item()\n",
        "    \n",
        "    nnet.eval()\n",
        "    with torch.no_grad():\n",
        "      validation_loss = 0\n",
        "\n",
        "      for i, data in enumerate(validation_dataloader):\n",
        "          # batch\n",
        "          x, y = data\n",
        "          x = x.float().reshape(-1,1)\n",
        "          y = y.float().reshape(-1,1)\n",
        "\n",
        "          # forward \n",
        "          y_hat = nnet(x)\n",
        "\n",
        "          # loss\n",
        "          loss = criterion(y_hat, y)\n",
        "\n",
        "          # accumulate data\n",
        "          validation_loss += loss.item()\n",
        "\n",
        "      if epoch%20 == 0:\n",
        "        print(f\"Epoch = {epoch} | loss = {training_loss / len(training)} | val_loss = {validation_loss / len(validation_dataloader)}\")"
      ],
      "execution_count": 416,
      "outputs": [
        {
          "output_type": "stream",
          "text": [
            "Epoch = 0 | loss = 5.696497314453125 | val_loss = 520.4502838134765\n",
            "Epoch = 20 | loss = 0.13502471610477992 | val_loss = 11.819180583953857\n",
            "Epoch = 40 | loss = 0.03180706696850913 | val_loss = 1.7008008122444154\n",
            "Epoch = 60 | loss = 0.019477604704243798 | val_loss = 0.4854486554861069\n",
            "Epoch = 80 | loss = 0.0160712582554136 | val_loss = 0.21597638875246047\n",
            "Epoch = 100 | loss = 0.012338235829557691 | val_loss = 0.11163119524717331\n",
            "Epoch = 120 | loss = 0.01312512800523213 | val_loss = 0.0797356314957142\n",
            "Epoch = 140 | loss = 0.011306890615395138 | val_loss = 0.06587683446705342\n",
            "Epoch = 160 | loss = 0.010251090799059186 | val_loss = 0.07412885315716267\n",
            "Epoch = 180 | loss = 0.010230799142803464 | val_loss = 0.07044582664966584\n",
            "Epoch = 200 | loss = 0.00933390273792403 | val_loss = 0.08273445144295692\n",
            "Epoch = 220 | loss = 0.009317813004766192 | val_loss = 0.06922942139208317\n",
            "Epoch = 240 | loss = 0.009365832188299724 | val_loss = 0.08310718983411788\n",
            "Epoch = 260 | loss = 0.00936721493942397 | val_loss = 0.0620149128139019\n",
            "Epoch = 280 | loss = 0.00830153889315469 | val_loss = 0.051242250204086306\n",
            "Epoch = 300 | loss = 0.008425827068941934 | val_loss = 0.04747848697006703\n",
            "Epoch = 320 | loss = 0.007651515581778117 | val_loss = 0.05562347359955311\n",
            "Epoch = 340 | loss = 0.00828573477268219 | val_loss = 0.05532756634056568\n",
            "Epoch = 360 | loss = 0.007994935418878283 | val_loss = 0.05484172254800797\n",
            "Epoch = 380 | loss = 0.007804144671985081 | val_loss = 0.04346421957015991\n",
            "Epoch = 400 | loss = 0.00755969226360321 | val_loss = 0.04666099660098553\n",
            "Epoch = 420 | loss = 0.0076953348432268415 | val_loss = 0.04575553946197033\n",
            "Epoch = 440 | loss = 0.007502005568572453 | val_loss = 0.04958525821566582\n",
            "Epoch = 460 | loss = 0.007130045286246708 | val_loss = 0.0809567891061306\n",
            "Epoch = 480 | loss = 0.0070868892541953495 | val_loss = 0.04740135036408901\n"
          ],
          "name": "stdout"
        }
      ]
    },
    {
      "cell_type": "code",
      "metadata": {
        "id": "Hg2o8m-RoxUf",
        "outputId": "d543c793-7344-4f73-bbce-29ce0e6e7ee2",
        "colab": {
          "base_uri": "https://localhost:8080/"
        }
      },
      "source": [
        "test_loss = 0\n",
        "\n",
        "for i, data in enumerate(test_dataloader):\n",
        "    # batch\n",
        "    x, y = data\n",
        "    x = x.float().reshape(-1,1)\n",
        "    y = y.float().reshape(-1,1)\n",
        "\n",
        "    # forward \n",
        "    y_hat = nnet(x)\n",
        "\n",
        "    # loss\n",
        "    test_loss += criterion(y_hat, y).item()\n",
        "\n",
        "test_loss = test_loss / len(test_dataloader)\n",
        "\n",
        "print(\"DL test loss: \" + str(test_loss))"
      ],
      "execution_count": 433,
      "outputs": [
        {
          "output_type": "stream",
          "text": [
            "DL test loss: 0.04568685386329889\n"
          ],
          "name": "stdout"
        }
      ]
    },
    {
      "cell_type": "markdown",
      "metadata": {
        "id": "5CXyHnSQlvkf"
      },
      "source": [
        "Se probó el entrenamiento de la red con diferentes valores de learning_rate, dropout y cantidad de features de las capas."
      ]
    },
    {
      "cell_type": "markdown",
      "metadata": {
        "id": "MphFWDOvqfPS"
      },
      "source": [
        "Comparación de resultados:\n",
        "\n",
        "*   SGD test loss = 0.086\n",
        "*   SGD + L2 reg. = 0.079\n",
        "*   SGD + L2 reg. + grid search = 0.039\n",
        "*   Deep Learning = 0.045\n",
        "\n"
      ]
    },
    {
      "cell_type": "markdown",
      "metadata": {
        "id": "7ImroqO1on8H"
      },
      "source": [
        "f) Para el punto (e), ¿qué función de activación seleccionaste y por qué? Para\n",
        "la función que hayas seleccionado, explica sus características, su forward y\n",
        "su backward."
      ]
    },
    {
      "cell_type": "markdown",
      "metadata": {
        "id": "hYfozos1rI5C"
      },
      "source": [
        "Seleccioné una función de activación del tipo **LeakyRELU** para evitar el problema de vanishing gradients si la entrada de esas capas llegara a ser negativa.\n",
        "\n",
        "Esa fx de activación es muy utilizada ya que otorga alinealidad al modelo sin complicar el cálculo del back-propagation.\n",
        "\n",
        "f (x) = x si x > 0 o 0.01*x si x <= 0\n",
        "f'(x) = 1 si x > 0 o 0.01   si x <= 0"
      ]
    }
  ]
}