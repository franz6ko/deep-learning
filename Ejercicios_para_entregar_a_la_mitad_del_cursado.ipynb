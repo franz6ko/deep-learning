{
  "nbformat": 4,
  "nbformat_minor": 0,
  "metadata": {
    "colab": {
      "name": "Ejercicios para entregar a la mitad del cursado.ipynb",
      "provenance": [],
      "authorship_tag": "ABX9TyMANejZmeZMv4xP5+XiqsBV",
      "include_colab_link": true
    },
    "kernelspec": {
      "name": "python3",
      "display_name": "Python 3"
    },
    "language_info": {
      "name": "python"
    }
  },
  "cells": [
    {
      "cell_type": "markdown",
      "metadata": {
        "id": "view-in-github",
        "colab_type": "text"
      },
      "source": [
        "<a href=\"https://colab.research.google.com/github/franz6ko/deep-learning/blob/main/Ejercicios_para_entregar_a_la_mitad_del_cursado.ipynb\" target=\"_parent\"><img src=\"https://colab.research.google.com/assets/colab-badge.svg\" alt=\"Open In Colab\"/></a>"
      ]
    },
    {
      "cell_type": "code",
      "metadata": {
        "id": "dyCoLlAddqfG"
      },
      "source": [
        "import numpy as np\n",
        "import matplotlib.pyplot as plt"
      ],
      "execution_count": 10,
      "outputs": []
    },
    {
      "cell_type": "markdown",
      "metadata": {
        "id": "xyIpIQOQcJwx"
      },
      "source": [
        "# 1 - Stochastic Gradient Descent"
      ]
    },
    {
      "cell_type": "markdown",
      "metadata": {
        "id": "IC3ia8gXiSs5"
      },
      "source": [
        "a) Implementar en Python un algoritmo basado en Stochastic Gradient Descent\n",
        "para encontrar numéricamente el mínimo de 𝑦 = (𝑥 − 2)**2 + 3. ¿Cuál es\n",
        "el mínimo valor que encontró el algoritmo y para qué valor de x? ¿En qué\n",
        "momento detuviste la búsqueda y por qué? ¿Cómo inicializamos los valores\n",
        "random del algoritmo y cómo afectan la convergencia? ¿Cuáles son los hiper\n",
        "parámetros del algoritmo?\n"
      ]
    },
    {
      "cell_type": "code",
      "metadata": {
        "id": "ysRED6WRcDZT"
      },
      "source": [
        "def f(x):\n",
        "  return (x - 2)**2 + 3\n",
        "\n",
        "def fp(x):\n",
        "  return 2*(x - 2)"
      ],
      "execution_count": 8,
      "outputs": []
    },
    {
      "cell_type": "code",
      "metadata": {
        "colab": {
          "base_uri": "https://localhost:8080/",
          "height": 282
        },
        "id": "ePiHD1ELdOh5",
        "outputId": "3a901802-9006-44ea-92e0-3e3a2ecd1749"
      },
      "source": [
        "alpha = 0.05\n",
        "tol = 0.01\n",
        "\n",
        "x = np.random.rand()\n",
        "g = 1\n",
        "\n",
        "hist_x = []\n",
        "hist_g = []\n",
        "\n",
        "while abs(g) > tol:\n",
        "  g = fp(x)\n",
        "  x = x - alpha * g\n",
        "  hist_x.append(x)\n",
        "  hist_g.append(g)\n",
        "\n",
        "fig, axs = plt.subplots(2)\n",
        "axs[0].plot(hist_x)\n",
        "axs[1].plot(hist_g)\n",
        "\n",
        "print(\"Min: \" + str(x))"
      ],
      "execution_count": 47,
      "outputs": [
        {
          "output_type": "stream",
          "text": [
            "Min: 1.9955791235866507\n"
          ],
          "name": "stdout"
        },
        {
          "output_type": "display_data",
          "data": {
            "image/png": "[encoded data removed]",
            "text/plain": [
              "<Figure size 432x288 with 2 Axes>"
            ]
          },
          "metadata": {
            "tags": [],
            "needs_background": "light"
          }
        }
      ]
    },
    {
      "cell_type": "markdown",
      "metadata": {
        "id": "4R69Iz4Ig1BE"
      },
      "source": [
        "Se detuvo la búsqueda aplicando una tolerancia al valor absoluto del gradiente. Cuando el mismo es lo suficientemente chico, consideramos que estamos muy cerca del mínimo de la función y detenemos el bucle.\n",
        "\n",
        "El único valor que se inicializa aleatoreamente es un valor inicial de x. Para ello usamos la funcion np.random.rand() que devuelve valores entre [0,1).\n",
        "\n",
        "Los hiperparámetros del algoritmo son el alpha y el valor de tolerancia para la detención."
      ]
    },
    {
      "cell_type": "markdown",
      "metadata": {
        "id": "t_-lbG9_ib2Q"
      },
      "source": [
        "b) Agregar al algoritmo del punto (a) un momento de primer orden. ¿Cuáles son\n",
        "los hiper parámetros del algoritmo?"
      ]
    },
    {
      "cell_type": "code",
      "metadata": {
        "colab": {
          "base_uri": "https://localhost:8080/",
          "height": 282
        },
        "id": "o5iY0lCKlwnI",
        "outputId": "1cf219a0-4ec6-476c-c536-5fd43f861256"
      },
      "source": [
        "alpha = 0.05\n",
        "tol = 0.01\n",
        "sigma = 0.1\n",
        "\n",
        "x = np.random.rand()\n",
        "g = 1\n",
        "gb = 0\n",
        "\n",
        "hist_x = []\n",
        "hist_g = []\n",
        "\n",
        "while abs(g) > tol:\n",
        "  g = fp(x)\n",
        "  x = x - alpha * g - sigma * gb\n",
        "  gb = g\n",
        "  hist_x.append(x)\n",
        "  hist_g.append(g)\n",
        "\n",
        "fig, axs = plt.subplots(2)\n",
        "axs[0].plot(hist_x)\n",
        "axs[1].plot(hist_g)\n",
        "\n",
        "print(\"Min: \" + str(x))"
      ],
      "execution_count": 44,
      "outputs": [
        {
          "output_type": "stream",
          "text": [
            "Min: 1.9980161434733474\n"
          ],
          "name": "stdout"
        },
        {
          "output_type": "display_data",
          "data": {
            "image/png": "[encoded data removed]",
            "text/plain": [
              "<Figure size 432x288 with 2 Axes>"
            ]
          },
          "metadata": {
            "tags": [],
            "needs_background": "light"
          }
        }
      ]
    },
    {
      "cell_type": "markdown",
      "metadata": {
        "id": "fvESeGU5jWfX"
      },
      "source": [
        "Los hiperparámetros del algoritmo ahora son: aplha, la tolerancia y sigma."
      ]
    },
    {
      "cell_type": "markdown",
      "metadata": {
        "id": "XSBBEkDCjTPt"
      },
      "source": [
        "c) Agregar al algoritmo del punto (b) un momento de segundo orden. ¿Cuáles\n",
        "son los hiper parámetros del algoritmo?"
      ]
    },
    {
      "cell_type": "code",
      "metadata": {
        "colab": {
          "base_uri": "https://localhost:8080/",
          "height": 282
        },
        "id": "havM0TlLgdUT",
        "outputId": "6200e1ee-61b3-4deb-a37e-8241155027ea"
      },
      "source": [
        "alpha = 0.05\n",
        "tol = 0.01\n",
        "sigma = 0.1\n",
        "epsilon = 0.1\n",
        "\n",
        "x = np.random.rand()\n",
        "g = 1\n",
        "gb = 0\n",
        "gbb = 0\n",
        "\n",
        "hist_x = []\n",
        "hist_g = []\n",
        "\n",
        "while abs(g) > tol:\n",
        "  g = fp(x)\n",
        "  x = x - alpha * g - sigma * gb - epsilon * gbb\n",
        "  gb = g\n",
        "  gbb = gb\n",
        "  hist_x.append(x)\n",
        "  hist_g.append(g)\n",
        "\n",
        "fig, axs = plt.subplots(2)\n",
        "axs[0].plot(hist_x)\n",
        "axs[1].plot(hist_g)\n",
        "\n",
        "print(\"Min: \" + str(x))"
      ],
      "execution_count": 45,
      "outputs": [
        {
          "output_type": "stream",
          "text": [
            "Min: 2.006691069571183\n"
          ],
          "name": "stdout"
        },
        {
          "output_type": "display_data",
          "data": {
            "image/png": "[encoded data removed]",
            "text/plain": [
              "<Figure size 432x288 with 2 Axes>"
            ]
          },
          "metadata": {
            "tags": [],
            "needs_background": "light"
          }
        }
      ]
    },
    {
      "cell_type": "markdown",
      "metadata": {
        "id": "LroqGtg7mzqm"
      },
      "source": [
        "Los hiperparámetros del algoritmo ahora son: aplha, la tolerancia, sigma y epsilon."
      ]
    },
    {
      "cell_type": "markdown",
      "metadata": {
        "id": "o_qX2QYCm9RJ"
      },
      "source": [
        "d)  Definir los mismos valores random iniciales para los tres optimizadores (a),\n",
        "(b) y (c). Para todos los casos graficar los gradientes en función de las\n",
        "iteraciones. ¿Qué algoritmo converge más rápido?\n"
      ]
    },
    {
      "cell_type": "code",
      "metadata": {
        "colab": {
          "base_uri": "https://localhost:8080/",
          "height": 316
        },
        "id": "UQlUANeYjSQv",
        "outputId": "32eab07c-6d17-4ee5-b08c-7051c93f9b78"
      },
      "source": [
        "x = np.random.rand()\n",
        "\n",
        "xa = x\n",
        "xb = x\n",
        "xc = x\n",
        "hista = []\n",
        "histb = []\n",
        "histc = []\n",
        "\n",
        "alpha = 0.01\n",
        "tol = 1e-5\n",
        "sigma = 0.1\n",
        "epsilon = 0.05\n",
        "\n",
        "# SGD\n",
        "g = 1\n",
        "while abs(g) > tol:\n",
        "  g = fp(xa)\n",
        "  xa = xa - alpha * g\n",
        "  hista.append(g)\n",
        "\n",
        "# SGD w/1st order momentum\n",
        "g = 1\n",
        "gb = 0\n",
        "while abs(g) > tol:\n",
        "  g = fp(xb)\n",
        "  xb = xb - alpha * g - sigma * gb\n",
        "  gb = g\n",
        "  histb.append(g)\n",
        "\n",
        "# SGD w/2nd order momentum\n",
        "g = 1\n",
        "gb = 0\n",
        "gbb = 0\n",
        "while abs(g) > tol:\n",
        "  g = fp(xc)\n",
        "  xc = xc - alpha * g - sigma * gb - epsilon * gbb\n",
        "  gb = g\n",
        "  gbb = gb\n",
        "  histc.append(g)\n",
        "\n",
        "fig, ax = plt.subplots(1)\n",
        "ax.plot(hista)\n",
        "ax.plot(histb)\n",
        "ax.plot(histc)\n",
        "\n",
        "print(\"SGD exited on epoch nº \" + str(len(hista)))\n",
        "print(\"SGD w/1st order momentum exited on epoch nº \" + str(len(histb)))\n",
        "print(\"SGD w/2nd order momentum exited on epoch nº \" + str(len(histc)))"
      ],
      "execution_count": 63,
      "outputs": [
        {
          "output_type": "stream",
          "text": [
            "SGD exited on epoch nº 623\n",
            "SGD w/1st order momentum exited on epoch nº 37\n",
            "SGD w/2nd order momentum exited on epoch nº 24\n"
          ],
          "name": "stdout"
        },
        {
          "output_type": "display_data",
          "data": {
            "image/png": "[encoded data removed]",
            "text/plain": [
              "<Figure size 432x288 with 1 Axes>"
            ]
          },
          "metadata": {
            "tags": [],
            "needs_background": "light"
          }
        }
      ]
    },
    {
      "cell_type": "markdown",
      "metadata": {
        "id": "ZsmAA8xmpKAC"
      },
      "source": [
        "Vemos que el SGD con momento de segundo orden converge más rápido."
      ]
    },
    {
      "cell_type": "code",
      "metadata": {
        "id": "K-M0dU-lnyb4"
      },
      "source": [
        ""
      ],
      "execution_count": null,
      "outputs": []
    }
  ]
}